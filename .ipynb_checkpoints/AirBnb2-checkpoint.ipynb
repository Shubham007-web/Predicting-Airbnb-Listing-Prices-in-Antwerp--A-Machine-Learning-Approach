{
 "cells": [
  {
   "cell_type": "markdown",
   "id": "42fd7e4c-78c1-457e-a7cf-0b04c00b3180",
   "metadata": {},
   "source": [
    "# AirBnB \n",
    "The project entails developing a machine learning-based solution for Airbnb to suggest appropriate listing prices to property owners in Antwerp, Belgium. This requires analyzing datasets from the company's data warehouse, including listings, calendar, hosts, and reviews information. The tasks involve data understanding and feature creation, data quality checks, variable profiling, and modeling to predict listing prices using various regression techniques. The goal is to identify significant predictors affecting prices and ensure the data's readiness for analysis through cleaning and transformation processes."
   ]
  },
  {
   "cell_type": "code",
   "execution_count": 1,
   "id": "0ee2346a-e9a4-465d-8c81-8ae4473e4e07",
   "metadata": {
    "tags": []
   },
   "outputs": [],
   "source": [
    "import pandas as pd"
   ]
  },
  {
   "cell_type": "code",
   "execution_count": 2,
   "id": "2c330823-25de-4e95-8fe1-8c2127c27351",
   "metadata": {
    "tags": []
   },
   "outputs": [],
   "source": [
    "# Load the provided datasets\n",
    "calendar_df = pd.read_csv('calendar.csv')\n",
    "hosts_df = pd.read_csv('hosts.csv')\n",
    "listings_df = pd.read_csv('listings.csv')\n",
    "reviews_df = pd.read_csv('reviews.csv')"
   ]
  },
  {
   "cell_type": "code",
   "execution_count": 3,
   "id": "24eb9740-19fe-4c56-b49a-a3a6f9a44a1a",
   "metadata": {
    "tags": []
   },
   "outputs": [
    {
     "name": "stdout",
     "output_type": "stream",
     "text": [
      "Calendar :  (319192, 8)\n"
     ]
    },
    {
     "data": {
      "text/html": [
       "<div>\n",
       "<style scoped>\n",
       "    .dataframe tbody tr th:only-of-type {\n",
       "        vertical-align: middle;\n",
       "    }\n",
       "\n",
       "    .dataframe tbody tr th {\n",
       "        vertical-align: top;\n",
       "    }\n",
       "\n",
       "    .dataframe thead th {\n",
       "        text-align: right;\n",
       "    }\n",
       "</style>\n",
       "<table border=\"1\" class=\"dataframe\">\n",
       "  <thead>\n",
       "    <tr style=\"text-align: right;\">\n",
       "      <th></th>\n",
       "      <th>calender_id</th>\n",
       "      <th>listing_id</th>\n",
       "      <th>date</th>\n",
       "      <th>available</th>\n",
       "      <th>price</th>\n",
       "      <th>adjusted_price</th>\n",
       "      <th>minimum_nights</th>\n",
       "      <th>maximum_nights</th>\n",
       "    </tr>\n",
       "  </thead>\n",
       "  <tbody>\n",
       "    <tr>\n",
       "      <th>0</th>\n",
       "      <td>1</td>\n",
       "      <td>40334325</td>\n",
       "      <td>2022-08-03 00:00:00.000000</td>\n",
       "      <td>0</td>\n",
       "      <td>56.0</td>\n",
       "      <td>56.0</td>\n",
       "      <td>3</td>\n",
       "      <td>5</td>\n",
       "    </tr>\n",
       "    <tr>\n",
       "      <th>1</th>\n",
       "      <td>2</td>\n",
       "      <td>22742449</td>\n",
       "      <td>2022-11-13 00:00:00.000000</td>\n",
       "      <td>1</td>\n",
       "      <td>95.0</td>\n",
       "      <td>95.0</td>\n",
       "      <td>2</td>\n",
       "      <td>99</td>\n",
       "    </tr>\n",
       "    <tr>\n",
       "      <th>2</th>\n",
       "      <td>3</td>\n",
       "      <td>34621717</td>\n",
       "      <td>2022-04-17 00:00:00.000000</td>\n",
       "      <td>0</td>\n",
       "      <td>75.0</td>\n",
       "      <td>75.0</td>\n",
       "      <td>2</td>\n",
       "      <td>1125</td>\n",
       "    </tr>\n",
       "    <tr>\n",
       "      <th>3</th>\n",
       "      <td>4</td>\n",
       "      <td>38281744</td>\n",
       "      <td>2022-01-31 00:00:00.000000</td>\n",
       "      <td>1</td>\n",
       "      <td>150.0</td>\n",
       "      <td>150.0</td>\n",
       "      <td>1</td>\n",
       "      <td>1000</td>\n",
       "    </tr>\n",
       "    <tr>\n",
       "      <th>4</th>\n",
       "      <td>5</td>\n",
       "      <td>18835003</td>\n",
       "      <td>2022-05-21 00:00:00.000000</td>\n",
       "      <td>0</td>\n",
       "      <td>100.0</td>\n",
       "      <td>100.0</td>\n",
       "      <td>2</td>\n",
       "      <td>1125</td>\n",
       "    </tr>\n",
       "  </tbody>\n",
       "</table>\n",
       "</div>"
      ],
      "text/plain": [
       "   calender_id  listing_id                        date  available  price  \\\n",
       "0            1    40334325  2022-08-03 00:00:00.000000          0   56.0   \n",
       "1            2    22742449  2022-11-13 00:00:00.000000          1   95.0   \n",
       "2            3    34621717  2022-04-17 00:00:00.000000          0   75.0   \n",
       "3            4    38281744  2022-01-31 00:00:00.000000          1  150.0   \n",
       "4            5    18835003  2022-05-21 00:00:00.000000          0  100.0   \n",
       "\n",
       "   adjusted_price  minimum_nights  maximum_nights  \n",
       "0            56.0               3               5  \n",
       "1            95.0               2              99  \n",
       "2            75.0               2            1125  \n",
       "3           150.0               1            1000  \n",
       "4           100.0               2            1125  "
      ]
     },
     "metadata": {},
     "output_type": "display_data"
    },
    {
     "name": "stdout",
     "output_type": "stream",
     "text": [
      "Hosts :  (1111, 5)\n"
     ]
    },
    {
     "data": {
      "text/html": [
       "<div>\n",
       "<style scoped>\n",
       "    .dataframe tbody tr th:only-of-type {\n",
       "        vertical-align: middle;\n",
       "    }\n",
       "\n",
       "    .dataframe tbody tr th {\n",
       "        vertical-align: top;\n",
       "    }\n",
       "\n",
       "    .dataframe thead th {\n",
       "        text-align: right;\n",
       "    }\n",
       "</style>\n",
       "<table border=\"1\" class=\"dataframe\">\n",
       "  <thead>\n",
       "    <tr style=\"text-align: right;\">\n",
       "      <th></th>\n",
       "      <th>host_id</th>\n",
       "      <th>host_name</th>\n",
       "      <th>host_since</th>\n",
       "      <th>host_location</th>\n",
       "      <th>host_about</th>\n",
       "    </tr>\n",
       "  </thead>\n",
       "  <tbody>\n",
       "    <tr>\n",
       "      <th>0</th>\n",
       "      <td>234077</td>\n",
       "      <td>Karin</td>\n",
       "      <td>2010-09-14 00:00:00.000000</td>\n",
       "      <td>Antwerp, Flanders, Belgium</td>\n",
       "      <td>Ever since my childhood I dreamt of having my ...</td>\n",
       "    </tr>\n",
       "    <tr>\n",
       "      <th>1</th>\n",
       "      <td>334804</td>\n",
       "      <td>Ann</td>\n",
       "      <td>2011-01-04 00:00:00.000000</td>\n",
       "      <td>Antwerp, Flemish Region, Belgium</td>\n",
       "      <td>Ciao, \\r\\nlooking forward to meet you!\\r\\nI lo...</td>\n",
       "    </tr>\n",
       "    <tr>\n",
       "      <th>2</th>\n",
       "      <td>413052</td>\n",
       "      <td>Valérie</td>\n",
       "      <td>2011-02-27 00:00:00.000000</td>\n",
       "      <td>Antwerp, Flanders, Belgium</td>\n",
       "      <td>NaN</td>\n",
       "    </tr>\n",
       "    <tr>\n",
       "      <th>3</th>\n",
       "      <td>452791</td>\n",
       "      <td>Tatiana</td>\n",
       "      <td>2011-03-20 00:00:00.000000</td>\n",
       "      <td>Antwerp, Flanders, Belgium</td>\n",
       "      <td>World traveler with a penchant for adrenaline ...</td>\n",
       "    </tr>\n",
       "    <tr>\n",
       "      <th>4</th>\n",
       "      <td>462975</td>\n",
       "      <td>Els</td>\n",
       "      <td>2011-03-25 00:00:00.000000</td>\n",
       "      <td>Edegem, Flanders, Belgium</td>\n",
       "      <td>I studied languages and cultural anthropology ...</td>\n",
       "    </tr>\n",
       "  </tbody>\n",
       "</table>\n",
       "</div>"
      ],
      "text/plain": [
       "   host_id host_name                  host_since  \\\n",
       "0   234077     Karin  2010-09-14 00:00:00.000000   \n",
       "1   334804       Ann  2011-01-04 00:00:00.000000   \n",
       "2   413052   Valérie  2011-02-27 00:00:00.000000   \n",
       "3   452791   Tatiana  2011-03-20 00:00:00.000000   \n",
       "4   462975       Els  2011-03-25 00:00:00.000000   \n",
       "\n",
       "                      host_location  \\\n",
       "0        Antwerp, Flanders, Belgium   \n",
       "1  Antwerp, Flemish Region, Belgium   \n",
       "2        Antwerp, Flanders, Belgium   \n",
       "3        Antwerp, Flanders, Belgium   \n",
       "4         Edegem, Flanders, Belgium   \n",
       "\n",
       "                                          host_about  \n",
       "0  Ever since my childhood I dreamt of having my ...  \n",
       "1  Ciao, \\r\\nlooking forward to meet you!\\r\\nI lo...  \n",
       "2                                                NaN  \n",
       "3  World traveler with a penchant for adrenaline ...  \n",
       "4  I studied languages and cultural anthropology ...  "
      ]
     },
     "metadata": {},
     "output_type": "display_data"
    }
   ],
   "source": [
    "# Display the first few rows of each dataframe to understand their structure\n",
    "print(\"Calendar : \", calendar_df.shape)\n",
    "display(calendar_df.head())\n",
    "print(\"Hosts : \", hosts_df.shape)\n",
    "display(hosts_df.head())"
   ]
  },
  {
   "cell_type": "code",
   "execution_count": 4,
   "id": "8aa882b1-83c9-4d3c-8018-0c1776a961ce",
   "metadata": {
    "tags": []
   },
   "outputs": [
    {
     "name": "stdout",
     "output_type": "stream",
     "text": [
      "listings :  (1749, 14)\n"
     ]
    },
    {
     "data": {
      "text/html": [
       "<div>\n",
       "<style scoped>\n",
       "    .dataframe tbody tr th:only-of-type {\n",
       "        vertical-align: middle;\n",
       "    }\n",
       "\n",
       "    .dataframe tbody tr th {\n",
       "        vertical-align: top;\n",
       "    }\n",
       "\n",
       "    .dataframe thead th {\n",
       "        text-align: right;\n",
       "    }\n",
       "</style>\n",
       "<table border=\"1\" class=\"dataframe\">\n",
       "  <thead>\n",
       "    <tr style=\"text-align: right;\">\n",
       "      <th></th>\n",
       "      <th>listing_id</th>\n",
       "      <th>listing_url</th>\n",
       "      <th>name</th>\n",
       "      <th>description</th>\n",
       "      <th>latitude</th>\n",
       "      <th>longitude</th>\n",
       "      <th>property_type</th>\n",
       "      <th>room_type</th>\n",
       "      <th>accomodates</th>\n",
       "      <th>bathrooms_text</th>\n",
       "      <th>bedrooms</th>\n",
       "      <th>beds</th>\n",
       "      <th>amenities</th>\n",
       "      <th>host_id</th>\n",
       "    </tr>\n",
       "  </thead>\n",
       "  <tbody>\n",
       "    <tr>\n",
       "      <th>0</th>\n",
       "      <td>50904</td>\n",
       "      <td>https://www.airbnb.com/rooms/50904</td>\n",
       "      <td>aplace/antwerp: cosy suite - fashion district</td>\n",
       "      <td>Decorated in a vintage style combined with a f...</td>\n",
       "      <td>51.218575</td>\n",
       "      <td>4.398631</td>\n",
       "      <td>Room in boutique hotel</td>\n",
       "      <td>Hotel room</td>\n",
       "      <td>2</td>\n",
       "      <td>1 private bath</td>\n",
       "      <td>1.0</td>\n",
       "      <td>1.0</td>\n",
       "      <td>[\"Kitchen\", \"Smoke alarm\", \"Hair dryer\", \"Keyp...</td>\n",
       "      <td>234077</td>\n",
       "    </tr>\n",
       "    <tr>\n",
       "      <th>1</th>\n",
       "      <td>116134</td>\n",
       "      <td>https://www.airbnb.com/rooms/116134</td>\n",
       "      <td>Spacious apartment nearby Mas</td>\n",
       "      <td>Enjoy your stay at our 4 person apartment in t...</td>\n",
       "      <td>51.230510</td>\n",
       "      <td>4.405930</td>\n",
       "      <td>Entire rental unit</td>\n",
       "      <td>Entire home/apt</td>\n",
       "      <td>4</td>\n",
       "      <td>2.5 baths</td>\n",
       "      <td>2.0</td>\n",
       "      <td>2.0</td>\n",
       "      <td>[\"Refrigerator\", \"Elevator\", \"Paid street park...</td>\n",
       "      <td>586942</td>\n",
       "    </tr>\n",
       "  </tbody>\n",
       "</table>\n",
       "</div>"
      ],
      "text/plain": [
       "   listing_id                          listing_url  \\\n",
       "0       50904   https://www.airbnb.com/rooms/50904   \n",
       "1      116134  https://www.airbnb.com/rooms/116134   \n",
       "\n",
       "                                            name  \\\n",
       "0  aplace/antwerp: cosy suite - fashion district   \n",
       "1                  Spacious apartment nearby Mas   \n",
       "\n",
       "                                         description   latitude  longitude  \\\n",
       "0  Decorated in a vintage style combined with a f...  51.218575   4.398631   \n",
       "1  Enjoy your stay at our 4 person apartment in t...  51.230510   4.405930   \n",
       "\n",
       "            property_type        room_type  accomodates  bathrooms_text  \\\n",
       "0  Room in boutique hotel       Hotel room            2  1 private bath   \n",
       "1      Entire rental unit  Entire home/apt            4       2.5 baths   \n",
       "\n",
       "   bedrooms  beds                                          amenities  host_id  \n",
       "0       1.0   1.0  [\"Kitchen\", \"Smoke alarm\", \"Hair dryer\", \"Keyp...   234077  \n",
       "1       2.0   2.0  [\"Refrigerator\", \"Elevator\", \"Paid street park...   586942  "
      ]
     },
     "metadata": {},
     "output_type": "display_data"
    },
    {
     "name": "stdout",
     "output_type": "stream",
     "text": [
      "Reviews :  (62987, 6)\n"
     ]
    },
    {
     "data": {
      "text/html": [
       "<div>\n",
       "<style scoped>\n",
       "    .dataframe tbody tr th:only-of-type {\n",
       "        vertical-align: middle;\n",
       "    }\n",
       "\n",
       "    .dataframe tbody tr th {\n",
       "        vertical-align: top;\n",
       "    }\n",
       "\n",
       "    .dataframe thead th {\n",
       "        text-align: right;\n",
       "    }\n",
       "</style>\n",
       "<table border=\"1\" class=\"dataframe\">\n",
       "  <thead>\n",
       "    <tr style=\"text-align: right;\">\n",
       "      <th></th>\n",
       "      <th>review_id</th>\n",
       "      <th>listing_id</th>\n",
       "      <th>date</th>\n",
       "      <th>reviewer_id</th>\n",
       "      <th>reviewer_name</th>\n",
       "      <th>comments</th>\n",
       "    </tr>\n",
       "  </thead>\n",
       "  <tbody>\n",
       "    <tr>\n",
       "      <th>0</th>\n",
       "      <td>1</td>\n",
       "      <td>50904</td>\n",
       "      <td>2015-05-06 00:00:00.000000</td>\n",
       "      <td>19482395</td>\n",
       "      <td>Jihae</td>\n",
       "      <td>Karin’s “Aplace” is absolutely beautiful and c...</td>\n",
       "    </tr>\n",
       "    <tr>\n",
       "      <th>1</th>\n",
       "      <td>2</td>\n",
       "      <td>50904</td>\n",
       "      <td>2021-10-10 00:00:00.000000</td>\n",
       "      <td>333559</td>\n",
       "      <td>Emilie</td>\n",
       "      <td>Karin is a wonderful host, she was really help...</td>\n",
       "    </tr>\n",
       "    <tr>\n",
       "      <th>2</th>\n",
       "      <td>3</td>\n",
       "      <td>116134</td>\n",
       "      <td>2012-03-05 00:00:00.000000</td>\n",
       "      <td>928644</td>\n",
       "      <td>Aurélien</td>\n",
       "      <td>Amazing flat, really close from the MAS Musem,...</td>\n",
       "    </tr>\n",
       "    <tr>\n",
       "      <th>3</th>\n",
       "      <td>4</td>\n",
       "      <td>116134</td>\n",
       "      <td>2012-05-25 00:00:00.000000</td>\n",
       "      <td>231288</td>\n",
       "      <td>Gail</td>\n",
       "      <td>This is a well equipped, very comfortable apar...</td>\n",
       "    </tr>\n",
       "    <tr>\n",
       "      <th>4</th>\n",
       "      <td>5</td>\n",
       "      <td>116134</td>\n",
       "      <td>2013-09-03 00:00:00.000000</td>\n",
       "      <td>7984251</td>\n",
       "      <td>Marcel</td>\n",
       "      <td>This is a very nice appartement. We really lik...</td>\n",
       "    </tr>\n",
       "  </tbody>\n",
       "</table>\n",
       "</div>"
      ],
      "text/plain": [
       "   review_id  listing_id                        date  reviewer_id  \\\n",
       "0          1       50904  2015-05-06 00:00:00.000000     19482395   \n",
       "1          2       50904  2021-10-10 00:00:00.000000       333559   \n",
       "2          3      116134  2012-03-05 00:00:00.000000       928644   \n",
       "3          4      116134  2012-05-25 00:00:00.000000       231288   \n",
       "4          5      116134  2013-09-03 00:00:00.000000      7984251   \n",
       "\n",
       "  reviewer_name                                           comments  \n",
       "0         Jihae  Karin’s “Aplace” is absolutely beautiful and c...  \n",
       "1        Emilie  Karin is a wonderful host, she was really help...  \n",
       "2      Aurélien  Amazing flat, really close from the MAS Musem,...  \n",
       "3          Gail  This is a well equipped, very comfortable apar...  \n",
       "4        Marcel  This is a very nice appartement. We really lik...  "
      ]
     },
     "metadata": {},
     "output_type": "display_data"
    }
   ],
   "source": [
    "print(\"listings : \",listings_df.shape)\n",
    "display(listings_df.head(2))\n",
    "print(\"Reviews : \",reviews_df.shape)\n",
    "display(reviews_df.head())"
   ]
  },
  {
   "cell_type": "markdown",
   "id": "8761bcce-5b3a-4249-8d71-4aa297de5c72",
   "metadata": {},
   "source": [
    "Here's an overview of the datasets provided:\n",
    "\n",
    "### Calendar Dataset\n",
    "- Shape: 319,192 rows × 8 columns\n",
    "- Contains chronological data on listings, including availability, price, adjusted price, and booking constraints (minimum and maximum nights).\n",
    "\n",
    "### Hosts Dataset\n",
    "- Shape: 1,111 rows × 5 columns\n",
    "- Information on hosts who've posted their listings, including their ID, name, registration timestamp, location, and a self-reported description.\n",
    "\n",
    "### Listings Dataset\n",
    "- Shape: 1,749 rows × 14 columns\n",
    "- Detailed data on individual listings, covering aspects like ID, URL, name, description, geographical coordinates, property type, room type, accommodation capacity, number of bathrooms, bedrooms, beds, amenities, and host ID.\n",
    "\n",
    "### Reviews Dataset\n",
    "- Shape: 62,987 rows × 6 columns\n",
    "- Data on reviews, including the listing ID, review ID, posting date, reviewer ID and name, and the review comment itself."
   ]
  },
  {
   "cell_type": "code",
   "execution_count": 5,
   "id": "6c8c8ae4-c579-492d-80a2-48971696fa56",
   "metadata": {
    "tags": []
   },
   "outputs": [
    {
     "name": "stderr",
     "output_type": "stream",
     "text": [
      "C:\\Users\\Shubham Soni\\AppData\\Local\\Temp\\ipykernel_10812\\1436521710.py:3: UserWarning: \n",
      "\n",
      "`distplot` is a deprecated function and will be removed in seaborn v0.14.0.\n",
      "\n",
      "Please adapt your code to use either `displot` (a figure-level function with\n",
      "similar flexibility) or `histplot` (an axes-level function for histograms).\n",
      "\n",
      "For a guide to updating your code to use the new functions, please see\n",
      "https://gist.github.com/mwaskom/de44147ed2974457ad6372750bbe5751\n",
      "\n",
      "  sns.distplot(calendar_df['price']);\n"
     ]
    },
    {
     "data": {
      "image/png": "[encoded data removed]",
      "text/plain": [
       "<Figure size 640x480 with 1 Axes>"
      ]
     },
     "metadata": {},
     "output_type": "display_data"
    }
   ],
   "source": [
    "import seaborn as sns\n",
    "\n",
    "sns.distplot(calendar_df['price']);"
   ]
  },
  {
   "cell_type": "code",
   "execution_count": 6,
   "id": "4f623db3-618b-4c72-b0ad-4e649013235c",
   "metadata": {
    "tags": []
   },
   "outputs": [
    {
     "name": "stderr",
     "output_type": "stream",
     "text": [
      "C:\\Users\\Shubham Soni\\AppData\\Local\\Temp\\ipykernel_10812\\3486760273.py:2: UserWarning: \n",
      "\n",
      "`distplot` is a deprecated function and will be removed in seaborn v0.14.0.\n",
      "\n",
      "Please adapt your code to use either `displot` (a figure-level function with\n",
      "similar flexibility) or `histplot` (an axes-level function for histograms).\n",
      "\n",
      "For a guide to updating your code to use the new functions, please see\n",
      "https://gist.github.com/mwaskom/de44147ed2974457ad6372750bbe5751\n",
      "\n",
      "  sns.distplot(np.log(calendar_df['price']));\n"
     ]
    },
    {
     "data": {
      "image/png": "[encoded data removed]",
      "text/plain": [
       "<Figure size 640x480 with 1 Axes>"
      ]
     },
     "metadata": {},
     "output_type": "display_data"
    }
   ],
   "source": [
    "import numpy as np\n",
    "sns.distplot(np.log(calendar_df['price']));"
   ]
  },
  {
   "cell_type": "code",
   "execution_count": 7,
   "id": "a8582687-8d1e-496b-8871-693ede2b0a23",
   "metadata": {},
   "outputs": [
    {
     "data": {
      "text/plain": [
       "<Axes: >"
      ]
     },
     "execution_count": 7,
     "metadata": {},
     "output_type": "execute_result"
    },
    {
     "data": {
      "image/png": "[encoded data removed]",
      "text/plain": [
       "<Figure size 640x480 with 1 Axes>"
      ]
     },
     "metadata": {},
     "output_type": "display_data"
    }
   ],
   "source": [
    "sns.boxplot(calendar_df['price'])"
   ]
  },
  {
   "cell_type": "code",
   "execution_count": 8,
   "id": "f0c14301",
   "metadata": {},
   "outputs": [
    {
     "data": {
      "text/plain": [
       "<Axes: >"
      ]
     },
     "execution_count": 8,
     "metadata": {},
     "output_type": "execute_result"
    },
    {
     "data": {
      "image/png": "[encoded data removed]",
      "text/plain": [
       "<Figure size 640x480 with 1 Axes>"
      ]
     },
     "metadata": {},
     "output_type": "display_data"
    }
   ],
   "source": [
    "sns.boxplot(np.log(calendar_df['price']))"
   ]
  },
  {
   "cell_type": "code",
   "execution_count": null,
   "id": "1338121a",
   "metadata": {},
   "outputs": [],
   "source": []
  },
  {
   "cell_type": "code",
   "execution_count": null,
   "id": "d8b19eae",
   "metadata": {},
   "outputs": [],
   "source": []
  }
 ],
 "metadata": {
  "kernelspec": {
   "display_name": "Python 3 (ipykernel)",
   "language": "python",
   "name": "python3"
  },
  "language_info": {
   "codemirror_mode": {
    "name": "ipython",
    "version": 3
   },
   "file_extension": ".py",
   "mimetype": "text/x-python",
   "name": "python",
   "nbconvert_exporter": "python",
   "pygments_lexer": "ipython3",
   "version": "3.11.3"
  }
 },
 "nbformat": 4,
 "nbformat_minor": 5
}
