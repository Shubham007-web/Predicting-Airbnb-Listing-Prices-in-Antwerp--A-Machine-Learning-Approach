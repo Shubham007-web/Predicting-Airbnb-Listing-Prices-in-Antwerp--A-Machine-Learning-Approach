{
 "cells": [
  {
   "cell_type": "markdown",
   "id": "e282e6d2",
   "metadata": {},
   "source": [
    "# Optimizing Short-Term Rental Pricing in Antwerp: A Machine Learning Approach\n",
    "\n",
    "Let's start this with Data Understanding phase of the CRISP-DM process.\n",
    "- The number of rows and columns in each dataset.\n",
    "- A preview of the first few rows to understand the data types and values.\n",
    "- Summary statistics for numerical columns to get a sense of the data distribution.\n",
    "- The presence of missing values."
   ]
  },
  {
   "cell_type": "code",
   "execution_count": 14,
   "id": "ffaf89df",
   "metadata": {
    "tags": []
   },
   "outputs": [],
   "source": [
    "import pandas as pd"
   ]
  },
  {
   "cell_type": "code",
   "execution_count": 15,
   "id": "11784709",
   "metadata": {
    "tags": []
   },
   "outputs": [
    {
     "name": "stdout",
     "output_type": "stream",
     "text": [
      "Dataset: CALENDAR\n"
     ]
    },
    {
     "data": {
      "text/html": [
       "<div>\n",
       "<style scoped>\n",
       "    .dataframe tbody tr th:only-of-type {\n",
       "        vertical-align: middle;\n",
       "    }\n",
       "\n",
       "    .dataframe tbody tr th {\n",
       "        vertical-align: top;\n",
       "    }\n",
       "\n",
       "    .dataframe thead th {\n",
       "        text-align: right;\n",
       "    }\n",
       "</style>\n",
       "<table border=\"1\" class=\"dataframe\">\n",
       "  <thead>\n",
       "    <tr style=\"text-align: right;\">\n",
       "      <th></th>\n",
       "      <th>calender_id</th>\n",
       "      <th>listing_id</th>\n",
       "      <th>date</th>\n",
       "      <th>available</th>\n",
       "      <th>price</th>\n",
       "      <th>adjusted_price</th>\n",
       "      <th>minimum_nights</th>\n",
       "      <th>maximum_nights</th>\n",
       "    </tr>\n",
       "  </thead>\n",
       "  <tbody>\n",
       "    <tr>\n",
       "      <th>0</th>\n",
       "      <td>1</td>\n",
       "      <td>40334325</td>\n",
       "      <td>2022-08-03 00:00:00.000000</td>\n",
       "      <td>0</td>\n",
       "      <td>56.0</td>\n",
       "      <td>56.0</td>\n",
       "      <td>3</td>\n",
       "      <td>5</td>\n",
       "    </tr>\n",
       "    <tr>\n",
       "      <th>1</th>\n",
       "      <td>2</td>\n",
       "      <td>22742449</td>\n",
       "      <td>2022-11-13 00:00:00.000000</td>\n",
       "      <td>1</td>\n",
       "      <td>95.0</td>\n",
       "      <td>95.0</td>\n",
       "      <td>2</td>\n",
       "      <td>99</td>\n",
       "    </tr>\n",
       "    <tr>\n",
       "      <th>2</th>\n",
       "      <td>3</td>\n",
       "      <td>34621717</td>\n",
       "      <td>2022-04-17 00:00:00.000000</td>\n",
       "      <td>0</td>\n",
       "      <td>75.0</td>\n",
       "      <td>75.0</td>\n",
       "      <td>2</td>\n",
       "      <td>1125</td>\n",
       "    </tr>\n",
       "    <tr>\n",
       "      <th>3</th>\n",
       "      <td>4</td>\n",
       "      <td>38281744</td>\n",
       "      <td>2022-01-31 00:00:00.000000</td>\n",
       "      <td>1</td>\n",
       "      <td>150.0</td>\n",
       "      <td>150.0</td>\n",
       "      <td>1</td>\n",
       "      <td>1000</td>\n",
       "    </tr>\n",
       "    <tr>\n",
       "      <th>4</th>\n",
       "      <td>5</td>\n",
       "      <td>18835003</td>\n",
       "      <td>2022-05-21 00:00:00.000000</td>\n",
       "      <td>0</td>\n",
       "      <td>100.0</td>\n",
       "      <td>100.0</td>\n",
       "      <td>2</td>\n",
       "      <td>1125</td>\n",
       "    </tr>\n",
       "  </tbody>\n",
       "</table>\n",
       "</div>"
      ],
      "text/plain": [
       "   calender_id  listing_id                        date  available  price  \\\n",
       "0            1    40334325  2022-08-03 00:00:00.000000          0   56.0   \n",
       "1            2    22742449  2022-11-13 00:00:00.000000          1   95.0   \n",
       "2            3    34621717  2022-04-17 00:00:00.000000          0   75.0   \n",
       "3            4    38281744  2022-01-31 00:00:00.000000          1  150.0   \n",
       "4            5    18835003  2022-05-21 00:00:00.000000          0  100.0   \n",
       "\n",
       "   adjusted_price  minimum_nights  maximum_nights  \n",
       "0            56.0               3               5  \n",
       "1            95.0               2              99  \n",
       "2            75.0               2            1125  \n",
       "3           150.0               1            1000  \n",
       "4           100.0               2            1125  "
      ]
     },
     "metadata": {},
     "output_type": "display_data"
    },
    {
     "name": "stdout",
     "output_type": "stream",
     "text": [
      "<class 'pandas.core.frame.DataFrame'>\n",
      "RangeIndex: 319192 entries, 0 to 319191\n",
      "Data columns (total 8 columns):\n",
      " #   Column          Non-Null Count   Dtype  \n",
      "---  ------          --------------   -----  \n",
      " 0   calender_id     319192 non-null  int64  \n",
      " 1   listing_id      319192 non-null  int64  \n",
      " 2   date            319192 non-null  object \n",
      " 3   available       319192 non-null  int64  \n",
      " 4   price           319117 non-null  float64\n",
      " 5   adjusted_price  319117 non-null  float64\n",
      " 6   minimum_nights  319192 non-null  int64  \n",
      " 7   maximum_nights  319192 non-null  int64  \n",
      "dtypes: float64(2), int64(5), object(1)\n",
      "memory usage: 19.5+ MB\n"
     ]
    },
    {
     "data": {
      "text/plain": [
       "None"
      ]
     },
     "metadata": {},
     "output_type": "display_data"
    },
    {
     "name": "stdout",
     "output_type": "stream",
     "text": [
      "\n",
      "--------------------------------------------------\n",
      "\n",
      "Dataset: HOSTS\n"
     ]
    },
    {
     "data": {
      "text/html": [
       "<div>\n",
       "<style scoped>\n",
       "    .dataframe tbody tr th:only-of-type {\n",
       "        vertical-align: middle;\n",
       "    }\n",
       "\n",
       "    .dataframe tbody tr th {\n",
       "        vertical-align: top;\n",
       "    }\n",
       "\n",
       "    .dataframe thead th {\n",
       "        text-align: right;\n",
       "    }\n",
       "</style>\n",
       "<table border=\"1\" class=\"dataframe\">\n",
       "  <thead>\n",
       "    <tr style=\"text-align: right;\">\n",
       "      <th></th>\n",
       "      <th>host_id</th>\n",
       "      <th>host_name</th>\n",
       "      <th>host_since</th>\n",
       "      <th>host_location</th>\n",
       "      <th>host_about</th>\n",
       "    </tr>\n",
       "  </thead>\n",
       "  <tbody>\n",
       "    <tr>\n",
       "      <th>0</th>\n",
       "      <td>234077</td>\n",
       "      <td>Karin</td>\n",
       "      <td>2010-09-14 00:00:00.000000</td>\n",
       "      <td>Antwerp, Flanders, Belgium</td>\n",
       "      <td>Ever since my childhood I dreamt of having my ...</td>\n",
       "    </tr>\n",
       "    <tr>\n",
       "      <th>1</th>\n",
       "      <td>334804</td>\n",
       "      <td>Ann</td>\n",
       "      <td>2011-01-04 00:00:00.000000</td>\n",
       "      <td>Antwerp, Flemish Region, Belgium</td>\n",
       "      <td>Ciao, \\r\\nlooking forward to meet you!\\r\\nI lo...</td>\n",
       "    </tr>\n",
       "    <tr>\n",
       "      <th>2</th>\n",
       "      <td>413052</td>\n",
       "      <td>Valérie</td>\n",
       "      <td>2011-02-27 00:00:00.000000</td>\n",
       "      <td>Antwerp, Flanders, Belgium</td>\n",
       "      <td>NaN</td>\n",
       "    </tr>\n",
       "    <tr>\n",
       "      <th>3</th>\n",
       "      <td>452791</td>\n",
       "      <td>Tatiana</td>\n",
       "      <td>2011-03-20 00:00:00.000000</td>\n",
       "      <td>Antwerp, Flanders, Belgium</td>\n",
       "      <td>World traveler with a penchant for adrenaline ...</td>\n",
       "    </tr>\n",
       "    <tr>\n",
       "      <th>4</th>\n",
       "      <td>462975</td>\n",
       "      <td>Els</td>\n",
       "      <td>2011-03-25 00:00:00.000000</td>\n",
       "      <td>Edegem, Flanders, Belgium</td>\n",
       "      <td>I studied languages and cultural anthropology ...</td>\n",
       "    </tr>\n",
       "  </tbody>\n",
       "</table>\n",
       "</div>"
      ],
      "text/plain": [
       "   host_id host_name                  host_since  \\\n",
       "0   234077     Karin  2010-09-14 00:00:00.000000   \n",
       "1   334804       Ann  2011-01-04 00:00:00.000000   \n",
       "2   413052   Valérie  2011-02-27 00:00:00.000000   \n",
       "3   452791   Tatiana  2011-03-20 00:00:00.000000   \n",
       "4   462975       Els  2011-03-25 00:00:00.000000   \n",
       "\n",
       "                      host_location  \\\n",
       "0        Antwerp, Flanders, Belgium   \n",
       "1  Antwerp, Flemish Region, Belgium   \n",
       "2        Antwerp, Flanders, Belgium   \n",
       "3        Antwerp, Flanders, Belgium   \n",
       "4         Edegem, Flanders, Belgium   \n",
       "\n",
       "                                          host_about  \n",
       "0  Ever since my childhood I dreamt of having my ...  \n",
       "1  Ciao, \\r\\nlooking forward to meet you!\\r\\nI lo...  \n",
       "2                                                NaN  \n",
       "3  World traveler with a penchant for adrenaline ...  \n",
       "4  I studied languages and cultural anthropology ...  "
      ]
     },
     "metadata": {},
     "output_type": "display_data"
    },
    {
     "name": "stdout",
     "output_type": "stream",
     "text": [
      "<class 'pandas.core.frame.DataFrame'>\n",
      "RangeIndex: 1111 entries, 0 to 1110\n",
      "Data columns (total 5 columns):\n",
      " #   Column         Non-Null Count  Dtype \n",
      "---  ------         --------------  ----- \n",
      " 0   host_id        1111 non-null   int64 \n",
      " 1   host_name      1111 non-null   object\n",
      " 2   host_since     1111 non-null   object\n",
      " 3   host_location  1108 non-null   object\n",
      " 4   host_about     490 non-null    object\n",
      "dtypes: int64(1), object(4)\n",
      "memory usage: 43.5+ KB\n"
     ]
    },
    {
     "data": {
      "text/plain": [
       "None"
      ]
     },
     "metadata": {},
     "output_type": "display_data"
    },
    {
     "name": "stdout",
     "output_type": "stream",
     "text": [
      "\n",
      "--------------------------------------------------\n",
      "\n",
      "Dataset: REVIEWS\n"
     ]
    },
    {
     "data": {
      "text/html": [
       "<div>\n",
       "<style scoped>\n",
       "    .dataframe tbody tr th:only-of-type {\n",
       "        vertical-align: middle;\n",
       "    }\n",
       "\n",
       "    .dataframe tbody tr th {\n",
       "        vertical-align: top;\n",
       "    }\n",
       "\n",
       "    .dataframe thead th {\n",
       "        text-align: right;\n",
       "    }\n",
       "</style>\n",
       "<table border=\"1\" class=\"dataframe\">\n",
       "  <thead>\n",
       "    <tr style=\"text-align: right;\">\n",
       "      <th></th>\n",
       "      <th>review_id</th>\n",
       "      <th>listing_id</th>\n",
       "      <th>date</th>\n",
       "      <th>reviewer_id</th>\n",
       "      <th>reviewer_name</th>\n",
       "      <th>comments</th>\n",
       "    </tr>\n",
       "  </thead>\n",
       "  <tbody>\n",
       "    <tr>\n",
       "      <th>0</th>\n",
       "      <td>1</td>\n",
       "      <td>50904</td>\n",
       "      <td>2015-05-06 00:00:00.000000</td>\n",
       "      <td>19482395</td>\n",
       "      <td>Jihae</td>\n",
       "      <td>Karin’s “Aplace” is absolutely beautiful and c...</td>\n",
       "    </tr>\n",
       "    <tr>\n",
       "      <th>1</th>\n",
       "      <td>2</td>\n",
       "      <td>50904</td>\n",
       "      <td>2021-10-10 00:00:00.000000</td>\n",
       "      <td>333559</td>\n",
       "      <td>Emilie</td>\n",
       "      <td>Karin is a wonderful host, she was really help...</td>\n",
       "    </tr>\n",
       "    <tr>\n",
       "      <th>2</th>\n",
       "      <td>3</td>\n",
       "      <td>116134</td>\n",
       "      <td>2012-03-05 00:00:00.000000</td>\n",
       "      <td>928644</td>\n",
       "      <td>Aurélien</td>\n",
       "      <td>Amazing flat, really close from the MAS Musem,...</td>\n",
       "    </tr>\n",
       "    <tr>\n",
       "      <th>3</th>\n",
       "      <td>4</td>\n",
       "      <td>116134</td>\n",
       "      <td>2012-05-25 00:00:00.000000</td>\n",
       "      <td>231288</td>\n",
       "      <td>Gail</td>\n",
       "      <td>This is a well equipped, very comfortable apar...</td>\n",
       "    </tr>\n",
       "    <tr>\n",
       "      <th>4</th>\n",
       "      <td>5</td>\n",
       "      <td>116134</td>\n",
       "      <td>2013-09-03 00:00:00.000000</td>\n",
       "      <td>7984251</td>\n",
       "      <td>Marcel</td>\n",
       "      <td>This is a very nice appartement. We really lik...</td>\n",
       "    </tr>\n",
       "  </tbody>\n",
       "</table>\n",
       "</div>"
      ],
      "text/plain": [
       "   review_id  listing_id                        date  reviewer_id  \\\n",
       "0          1       50904  2015-05-06 00:00:00.000000     19482395   \n",
       "1          2       50904  2021-10-10 00:00:00.000000       333559   \n",
       "2          3      116134  2012-03-05 00:00:00.000000       928644   \n",
       "3          4      116134  2012-05-25 00:00:00.000000       231288   \n",
       "4          5      116134  2013-09-03 00:00:00.000000      7984251   \n",
       "\n",
       "  reviewer_name                                           comments  \n",
       "0         Jihae  Karin’s “Aplace” is absolutely beautiful and c...  \n",
       "1        Emilie  Karin is a wonderful host, she was really help...  \n",
       "2      Aurélien  Amazing flat, really close from the MAS Musem,...  \n",
       "3          Gail  This is a well equipped, very comfortable apar...  \n",
       "4        Marcel  This is a very nice appartement. We really lik...  "
      ]
     },
     "metadata": {},
     "output_type": "display_data"
    },
    {
     "name": "stdout",
     "output_type": "stream",
     "text": [
      "<class 'pandas.core.frame.DataFrame'>\n",
      "RangeIndex: 62987 entries, 0 to 62986\n",
      "Data columns (total 6 columns):\n",
      " #   Column         Non-Null Count  Dtype \n",
      "---  ------         --------------  ----- \n",
      " 0   review_id      62987 non-null  int64 \n",
      " 1   listing_id     62987 non-null  int64 \n",
      " 2   date           62987 non-null  object\n",
      " 3   reviewer_id    62987 non-null  int64 \n",
      " 4   reviewer_name  62987 non-null  object\n",
      " 5   comments       62923 non-null  object\n",
      "dtypes: int64(3), object(3)\n",
      "memory usage: 2.9+ MB\n"
     ]
    },
    {
     "data": {
      "text/plain": [
       "None"
      ]
     },
     "metadata": {},
     "output_type": "display_data"
    },
    {
     "name": "stdout",
     "output_type": "stream",
     "text": [
      "\n",
      "--------------------------------------------------\n",
      "\n",
      "Dataset: LISTINGS\n"
     ]
    },
    {
     "data": {
      "text/html": [
       "<div>\n",
       "<style scoped>\n",
       "    .dataframe tbody tr th:only-of-type {\n",
       "        vertical-align: middle;\n",
       "    }\n",
       "\n",
       "    .dataframe tbody tr th {\n",
       "        vertical-align: top;\n",
       "    }\n",
       "\n",
       "    .dataframe thead th {\n",
       "        text-align: right;\n",
       "    }\n",
       "</style>\n",
       "<table border=\"1\" class=\"dataframe\">\n",
       "  <thead>\n",
       "    <tr style=\"text-align: right;\">\n",
       "      <th></th>\n",
       "      <th>listing_id</th>\n",
       "      <th>listing_url</th>\n",
       "      <th>name</th>\n",
       "      <th>description</th>\n",
       "      <th>latitude</th>\n",
       "      <th>longitude</th>\n",
       "      <th>property_type</th>\n",
       "      <th>room_type</th>\n",
       "      <th>accomodates</th>\n",
       "      <th>bathrooms_text</th>\n",
       "      <th>bedrooms</th>\n",
       "      <th>beds</th>\n",
       "      <th>amenities</th>\n",
       "      <th>host_id</th>\n",
       "    </tr>\n",
       "  </thead>\n",
       "  <tbody>\n",
       "    <tr>\n",
       "      <th>0</th>\n",
       "      <td>50904</td>\n",
       "      <td>https://www.airbnb.com/rooms/50904</td>\n",
       "      <td>aplace/antwerp: cosy suite - fashion district</td>\n",
       "      <td>Decorated in a vintage style combined with a f...</td>\n",
       "      <td>51.218575</td>\n",
       "      <td>4.398631</td>\n",
       "      <td>Room in boutique hotel</td>\n",
       "      <td>Hotel room</td>\n",
       "      <td>2</td>\n",
       "      <td>1 private bath</td>\n",
       "      <td>1.0</td>\n",
       "      <td>1.0</td>\n",
       "      <td>[\"Kitchen\", \"Smoke alarm\", \"Hair dryer\", \"Keyp...</td>\n",
       "      <td>234077</td>\n",
       "    </tr>\n",
       "    <tr>\n",
       "      <th>1</th>\n",
       "      <td>116134</td>\n",
       "      <td>https://www.airbnb.com/rooms/116134</td>\n",
       "      <td>Spacious apartment nearby Mas</td>\n",
       "      <td>Enjoy your stay at our 4 person apartment in t...</td>\n",
       "      <td>51.230510</td>\n",
       "      <td>4.405930</td>\n",
       "      <td>Entire rental unit</td>\n",
       "      <td>Entire home/apt</td>\n",
       "      <td>4</td>\n",
       "      <td>2.5 baths</td>\n",
       "      <td>2.0</td>\n",
       "      <td>2.0</td>\n",
       "      <td>[\"Refrigerator\", \"Elevator\", \"Paid street park...</td>\n",
       "      <td>586942</td>\n",
       "    </tr>\n",
       "    <tr>\n",
       "      <th>2</th>\n",
       "      <td>218916</td>\n",
       "      <td>https://www.airbnb.com/rooms/218916</td>\n",
       "      <td>Apartment with terrace in trendy Zurenborg</td>\n",
       "      <td>Do you enjoy authentic places with a lot of ch...</td>\n",
       "      <td>51.206330</td>\n",
       "      <td>4.429420</td>\n",
       "      <td>Entire condominium (condo)</td>\n",
       "      <td>Entire home/apt</td>\n",
       "      <td>5</td>\n",
       "      <td>1 bath</td>\n",
       "      <td>1.0</td>\n",
       "      <td>3.0</td>\n",
       "      <td>[\"Paid street parking off premises\", \"Kitchen\"...</td>\n",
       "      <td>915664</td>\n",
       "    </tr>\n",
       "    <tr>\n",
       "      <th>3</th>\n",
       "      <td>224333</td>\n",
       "      <td>https://www.airbnb.com/rooms/224333</td>\n",
       "      <td>Large stylish room in 1930s house + garden</td>\n",
       "      <td>Large bedroom in classic 1930s house. Kitchen,...</td>\n",
       "      <td>51.197720</td>\n",
       "      <td>4.458530</td>\n",
       "      <td>Private room in residential home</td>\n",
       "      <td>Private room</td>\n",
       "      <td>2</td>\n",
       "      <td>2 shared baths</td>\n",
       "      <td>1.0</td>\n",
       "      <td>1.0</td>\n",
       "      <td>[\"Fire extinguisher\", \"Backyard\", \"Long term s...</td>\n",
       "      <td>1167377</td>\n",
       "    </tr>\n",
       "    <tr>\n",
       "      <th>4</th>\n",
       "      <td>224682</td>\n",
       "      <td>https://www.airbnb.com/rooms/224682</td>\n",
       "      <td>APARTMENT ROSCAM - OLD CENTRE ANTWERP</td>\n",
       "      <td>&lt;b&gt;The space&lt;/b&gt;&lt;br /&gt;Apartment \"Roscam\" is a ...</td>\n",
       "      <td>51.217220</td>\n",
       "      <td>4.397900</td>\n",
       "      <td>Entire rental unit</td>\n",
       "      <td>Entire home/apt</td>\n",
       "      <td>3</td>\n",
       "      <td>1 bath</td>\n",
       "      <td>1.0</td>\n",
       "      <td>2.0</td>\n",
       "      <td>[\"Refrigerator\", \"Kitchen\", \"Smoke alarm\", \"Sh...</td>\n",
       "      <td>1263933</td>\n",
       "    </tr>\n",
       "  </tbody>\n",
       "</table>\n",
       "</div>"
      ],
      "text/plain": [
       "   listing_id                          listing_url  \\\n",
       "0       50904   https://www.airbnb.com/rooms/50904   \n",
       "1      116134  https://www.airbnb.com/rooms/116134   \n",
       "2      218916  https://www.airbnb.com/rooms/218916   \n",
       "3      224333  https://www.airbnb.com/rooms/224333   \n",
       "4      224682  https://www.airbnb.com/rooms/224682   \n",
       "\n",
       "                                            name  \\\n",
       "0  aplace/antwerp: cosy suite - fashion district   \n",
       "1                  Spacious apartment nearby Mas   \n",
       "2     Apartment with terrace in trendy Zurenborg   \n",
       "3     Large stylish room in 1930s house + garden   \n",
       "4          APARTMENT ROSCAM - OLD CENTRE ANTWERP   \n",
       "\n",
       "                                         description   latitude  longitude  \\\n",
       "0  Decorated in a vintage style combined with a f...  51.218575   4.398631   \n",
       "1  Enjoy your stay at our 4 person apartment in t...  51.230510   4.405930   \n",
       "2  Do you enjoy authentic places with a lot of ch...  51.206330   4.429420   \n",
       "3  Large bedroom in classic 1930s house. Kitchen,...  51.197720   4.458530   \n",
       "4  <b>The space</b><br />Apartment \"Roscam\" is a ...  51.217220   4.397900   \n",
       "\n",
       "                      property_type        room_type  accomodates  \\\n",
       "0            Room in boutique hotel       Hotel room            2   \n",
       "1                Entire rental unit  Entire home/apt            4   \n",
       "2        Entire condominium (condo)  Entire home/apt            5   \n",
       "3  Private room in residential home     Private room            2   \n",
       "4                Entire rental unit  Entire home/apt            3   \n",
       "\n",
       "   bathrooms_text  bedrooms  beds  \\\n",
       "0  1 private bath       1.0   1.0   \n",
       "1       2.5 baths       2.0   2.0   \n",
       "2          1 bath       1.0   3.0   \n",
       "3  2 shared baths       1.0   1.0   \n",
       "4          1 bath       1.0   2.0   \n",
       "\n",
       "                                           amenities  host_id  \n",
       "0  [\"Kitchen\", \"Smoke alarm\", \"Hair dryer\", \"Keyp...   234077  \n",
       "1  [\"Refrigerator\", \"Elevator\", \"Paid street park...   586942  \n",
       "2  [\"Paid street parking off premises\", \"Kitchen\"...   915664  \n",
       "3  [\"Fire extinguisher\", \"Backyard\", \"Long term s...  1167377  \n",
       "4  [\"Refrigerator\", \"Kitchen\", \"Smoke alarm\", \"Sh...  1263933  "
      ]
     },
     "metadata": {},
     "output_type": "display_data"
    },
    {
     "name": "stdout",
     "output_type": "stream",
     "text": [
      "<class 'pandas.core.frame.DataFrame'>\n",
      "RangeIndex: 1749 entries, 0 to 1748\n",
      "Data columns (total 14 columns):\n",
      " #   Column          Non-Null Count  Dtype  \n",
      "---  ------          --------------  -----  \n",
      " 0   listing_id      1749 non-null   int64  \n",
      " 1   listing_url     1749 non-null   object \n",
      " 2   name            1749 non-null   object \n",
      " 3   description     1679 non-null   object \n",
      " 4   latitude        1749 non-null   float64\n",
      " 5   longitude       1749 non-null   float64\n",
      " 6   property_type   1749 non-null   object \n",
      " 7   room_type       1749 non-null   object \n",
      " 8   accomodates     1749 non-null   int64  \n",
      " 9   bathrooms_text  1749 non-null   object \n",
      " 10  bedrooms        1621 non-null   float64\n",
      " 11  beds            1708 non-null   float64\n",
      " 12  amenities       1749 non-null   object \n",
      " 13  host_id         1749 non-null   int64  \n",
      "dtypes: float64(4), int64(3), object(7)\n",
      "memory usage: 191.4+ KB\n"
     ]
    },
    {
     "data": {
      "text/plain": [
       "None"
      ]
     },
     "metadata": {},
     "output_type": "display_data"
    },
    {
     "name": "stdout",
     "output_type": "stream",
     "text": [
      "\n",
      "--------------------------------------------------\n",
      "\n"
     ]
    }
   ],
   "source": [
    "# Load the datasets\n",
    "calendar_df = pd.read_csv('calendar.csv')\n",
    "hosts_df = pd.read_csv('hosts.csv')\n",
    "reviews_df = pd.read_csv('reviews.csv')\n",
    "listings_df = pd.read_csv('listings.csv')\n",
    "\n",
    "# Inspect the first few rows of each dataset and their info\n",
    "datasets = {\n",
    "    'calendar': calendar_df,\n",
    "    'hosts': hosts_df,\n",
    "    'reviews': reviews_df,\n",
    "    'listings': listings_df\n",
    "}\n",
    "\n",
    "# Displaying the first few rows and basic info for each dataset\n",
    "for name, df in datasets.items():\n",
    "    print(f\"Dataset: {name.upper()}\")\n",
    "    display(df.head())\n",
    "    display(df.info())\n",
    "    print(\"\\n\" + \"-\"*50 + \"\\n\")\n"
   ]
  },
  {
   "cell_type": "markdown",
   "id": "e7ddc3e7",
   "metadata": {},
   "source": [
    "# Task1: Data Understanding and Feature Creation\n",
    "## Calendar Table Analysis\n",
    "- **Count Rows and Unique Listing IDs:** Determine the total number of rows and the number of unique listings in the calendar.csv dataset. This will help understand the data's granularity and identify if multiple records exist for each listing (implying repeated observations over time).\n",
    "- **Price Column Transformation:** The price column will serve as our target variable. We need to ensure it's in a numerical format suitable for regression analysis. Any missing values will also need to be addressed, either by removal or imputation."
   ]
  },
  {
   "cell_type": "code",
   "execution_count": 16,
   "id": "da54f6b3",
   "metadata": {
    "tags": []
   },
   "outputs": [
    {
     "data": {
      "text/plain": [
       "(319192, 1749)"
      ]
     },
     "execution_count": 16,
     "metadata": {},
     "output_type": "execute_result"
    }
   ],
   "source": [
    "# Count the total number of rows in the Calendar dataset\n",
    "total_rows_calendar = calendar_df.shape[0]\n",
    "\n",
    "# Count the number of unique listing IDs in the Calendar dataset\n",
    "unique_listing_ids_calendar = calendar_df['listing_id'].nunique()\n",
    "\n",
    "total_rows_calendar, unique_listing_ids_calendar"
   ]
  },
  {
   "cell_type": "code",
   "execution_count": 17,
   "id": "0b607ffb",
   "metadata": {
    "tags": []
   },
   "outputs": [
    {
     "data": {
      "text/html": [
       "<div>\n",
       "<style scoped>\n",
       "    .dataframe tbody tr th:only-of-type {\n",
       "        vertical-align: middle;\n",
       "    }\n",
       "\n",
       "    .dataframe tbody tr th {\n",
       "        vertical-align: top;\n",
       "    }\n",
       "\n",
       "    .dataframe thead th {\n",
       "        text-align: right;\n",
       "    }\n",
       "</style>\n",
       "<table border=\"1\" class=\"dataframe\">\n",
       "  <thead>\n",
       "    <tr style=\"text-align: right;\">\n",
       "      <th></th>\n",
       "      <th>calender_id</th>\n",
       "      <th>listing_id</th>\n",
       "      <th>date</th>\n",
       "      <th>available</th>\n",
       "      <th>price</th>\n",
       "      <th>adjusted_price</th>\n",
       "      <th>minimum_nights</th>\n",
       "      <th>maximum_nights</th>\n",
       "    </tr>\n",
       "  </thead>\n",
       "  <tbody>\n",
       "    <tr>\n",
       "      <th>0</th>\n",
       "      <td>1</td>\n",
       "      <td>40334325</td>\n",
       "      <td>2022-08-03 00:00:00.000000</td>\n",
       "      <td>0</td>\n",
       "      <td>56.0</td>\n",
       "      <td>56.0</td>\n",
       "      <td>3</td>\n",
       "      <td>5</td>\n",
       "    </tr>\n",
       "    <tr>\n",
       "      <th>1</th>\n",
       "      <td>2</td>\n",
       "      <td>22742449</td>\n",
       "      <td>2022-11-13 00:00:00.000000</td>\n",
       "      <td>1</td>\n",
       "      <td>95.0</td>\n",
       "      <td>95.0</td>\n",
       "      <td>2</td>\n",
       "      <td>99</td>\n",
       "    </tr>\n",
       "    <tr>\n",
       "      <th>2</th>\n",
       "      <td>3</td>\n",
       "      <td>34621717</td>\n",
       "      <td>2022-04-17 00:00:00.000000</td>\n",
       "      <td>0</td>\n",
       "      <td>75.0</td>\n",
       "      <td>75.0</td>\n",
       "      <td>2</td>\n",
       "      <td>1125</td>\n",
       "    </tr>\n",
       "    <tr>\n",
       "      <th>3</th>\n",
       "      <td>4</td>\n",
       "      <td>38281744</td>\n",
       "      <td>2022-01-31 00:00:00.000000</td>\n",
       "      <td>1</td>\n",
       "      <td>150.0</td>\n",
       "      <td>150.0</td>\n",
       "      <td>1</td>\n",
       "      <td>1000</td>\n",
       "    </tr>\n",
       "    <tr>\n",
       "      <th>4</th>\n",
       "      <td>5</td>\n",
       "      <td>18835003</td>\n",
       "      <td>2022-05-21 00:00:00.000000</td>\n",
       "      <td>0</td>\n",
       "      <td>100.0</td>\n",
       "      <td>100.0</td>\n",
       "      <td>2</td>\n",
       "      <td>1125</td>\n",
       "    </tr>\n",
       "    <tr>\n",
       "      <th>...</th>\n",
       "      <td>...</td>\n",
       "      <td>...</td>\n",
       "      <td>...</td>\n",
       "      <td>...</td>\n",
       "      <td>...</td>\n",
       "      <td>...</td>\n",
       "      <td>...</td>\n",
       "      <td>...</td>\n",
       "    </tr>\n",
       "    <tr>\n",
       "      <th>319187</th>\n",
       "      <td>319188</td>\n",
       "      <td>52729945</td>\n",
       "      <td>2022-07-06 00:00:00.000000</td>\n",
       "      <td>1</td>\n",
       "      <td>64.0</td>\n",
       "      <td>64.0</td>\n",
       "      <td>1</td>\n",
       "      <td>10</td>\n",
       "    </tr>\n",
       "    <tr>\n",
       "      <th>319188</th>\n",
       "      <td>319189</td>\n",
       "      <td>36953202</td>\n",
       "      <td>2022-07-08 00:00:00.000000</td>\n",
       "      <td>0</td>\n",
       "      <td>140.0</td>\n",
       "      <td>140.0</td>\n",
       "      <td>3</td>\n",
       "      <td>1125</td>\n",
       "    </tr>\n",
       "    <tr>\n",
       "      <th>319189</th>\n",
       "      <td>319190</td>\n",
       "      <td>39580214</td>\n",
       "      <td>2022-06-13 00:00:00.000000</td>\n",
       "      <td>1</td>\n",
       "      <td>49.0</td>\n",
       "      <td>49.0</td>\n",
       "      <td>1</td>\n",
       "      <td>13</td>\n",
       "    </tr>\n",
       "    <tr>\n",
       "      <th>319190</th>\n",
       "      <td>319191</td>\n",
       "      <td>49016014</td>\n",
       "      <td>2022-10-26 00:00:00.000000</td>\n",
       "      <td>0</td>\n",
       "      <td>60.0</td>\n",
       "      <td>60.0</td>\n",
       "      <td>2</td>\n",
       "      <td>30</td>\n",
       "    </tr>\n",
       "    <tr>\n",
       "      <th>319191</th>\n",
       "      <td>319192</td>\n",
       "      <td>31438714</td>\n",
       "      <td>2022-06-12 00:00:00.000000</td>\n",
       "      <td>0</td>\n",
       "      <td>104.0</td>\n",
       "      <td>104.0</td>\n",
       "      <td>2</td>\n",
       "      <td>1125</td>\n",
       "    </tr>\n",
       "  </tbody>\n",
       "</table>\n",
       "<p>319192 rows × 8 columns</p>\n",
       "</div>"
      ],
      "text/plain": [
       "        calender_id  listing_id                        date  available  price  \\\n",
       "0                 1    40334325  2022-08-03 00:00:00.000000          0   56.0   \n",
       "1                 2    22742449  2022-11-13 00:00:00.000000          1   95.0   \n",
       "2                 3    34621717  2022-04-17 00:00:00.000000          0   75.0   \n",
       "3                 4    38281744  2022-01-31 00:00:00.000000          1  150.0   \n",
       "4                 5    18835003  2022-05-21 00:00:00.000000          0  100.0   \n",
       "...             ...         ...                         ...        ...    ...   \n",
       "319187       319188    52729945  2022-07-06 00:00:00.000000          1   64.0   \n",
       "319188       319189    36953202  2022-07-08 00:00:00.000000          0  140.0   \n",
       "319189       319190    39580214  2022-06-13 00:00:00.000000          1   49.0   \n",
       "319190       319191    49016014  2022-10-26 00:00:00.000000          0   60.0   \n",
       "319191       319192    31438714  2022-06-12 00:00:00.000000          0  104.0   \n",
       "\n",
       "        adjusted_price  minimum_nights  maximum_nights  \n",
       "0                 56.0               3               5  \n",
       "1                 95.0               2              99  \n",
       "2                 75.0               2            1125  \n",
       "3                150.0               1            1000  \n",
       "4                100.0               2            1125  \n",
       "...                ...             ...             ...  \n",
       "319187            64.0               1              10  \n",
       "319188           140.0               3            1125  \n",
       "319189            49.0               1              13  \n",
       "319190            60.0               2              30  \n",
       "319191           104.0               2            1125  \n",
       "\n",
       "[319192 rows x 8 columns]"
      ]
     },
     "execution_count": 17,
     "metadata": {},
     "output_type": "execute_result"
    }
   ],
   "source": [
    "calendar_df"
   ]
  },
  {
   "cell_type": "code",
   "execution_count": 18,
   "id": "41148b2d",
   "metadata": {},
   "outputs": [
    {
     "data": {
      "text/plain": [
       "calender_id        0\n",
       "listing_id         0\n",
       "date               0\n",
       "available          0\n",
       "price             75\n",
       "adjusted_price    75\n",
       "minimum_nights     0\n",
       "maximum_nights     0\n",
       "dtype: int64"
      ]
     },
     "execution_count": 18,
     "metadata": {},
     "output_type": "execute_result"
    }
   ],
   "source": [
    "calendar_df.isnull().sum()"
   ]
  },
  {
   "cell_type": "code",
   "execution_count": 19,
   "id": "7a1cce2b",
   "metadata": {},
   "outputs": [
    {
     "name": "stdout",
     "output_type": "stream",
     "text": [
      "<class 'pandas.core.frame.DataFrame'>\n",
      "RangeIndex: 319192 entries, 0 to 319191\n",
      "Data columns (total 8 columns):\n",
      " #   Column          Non-Null Count   Dtype  \n",
      "---  ------          --------------   -----  \n",
      " 0   calender_id     319192 non-null  int64  \n",
      " 1   listing_id      319192 non-null  int64  \n",
      " 2   date            319192 non-null  object \n",
      " 3   available       319192 non-null  int64  \n",
      " 4   price           319117 non-null  float64\n",
      " 5   adjusted_price  319117 non-null  float64\n",
      " 6   minimum_nights  319192 non-null  int64  \n",
      " 7   maximum_nights  319192 non-null  int64  \n",
      "dtypes: float64(2), int64(5), object(1)\n",
      "memory usage: 19.5+ MB\n"
     ]
    }
   ],
   "source": [
    "calendar_df.info()"
   ]
  },
  {
   "cell_type": "code",
   "execution_count": 20,
   "id": "4ef98e3a",
   "metadata": {},
   "outputs": [
    {
     "data": {
      "text/html": [
       "<div>\n",
       "<style scoped>\n",
       "    .dataframe tbody tr th:only-of-type {\n",
       "        vertical-align: middle;\n",
       "    }\n",
       "\n",
       "    .dataframe tbody tr th {\n",
       "        vertical-align: top;\n",
       "    }\n",
       "\n",
       "    .dataframe thead th {\n",
       "        text-align: right;\n",
       "    }\n",
       "</style>\n",
       "<table border=\"1\" class=\"dataframe\">\n",
       "  <thead>\n",
       "    <tr style=\"text-align: right;\">\n",
       "      <th></th>\n",
       "      <th>calender_id</th>\n",
       "      <th>listing_id</th>\n",
       "      <th>date</th>\n",
       "      <th>available</th>\n",
       "      <th>price</th>\n",
       "      <th>adjusted_price</th>\n",
       "      <th>minimum_nights</th>\n",
       "      <th>maximum_nights</th>\n",
       "    </tr>\n",
       "  </thead>\n",
       "  <tbody>\n",
       "    <tr>\n",
       "      <th>2648</th>\n",
       "      <td>2649</td>\n",
       "      <td>37025979</td>\n",
       "      <td>2022-03-20 00:00:00.000000</td>\n",
       "      <td>0</td>\n",
       "      <td>NaN</td>\n",
       "      <td>NaN</td>\n",
       "      <td>3</td>\n",
       "      <td>15</td>\n",
       "    </tr>\n",
       "    <tr>\n",
       "      <th>5035</th>\n",
       "      <td>5036</td>\n",
       "      <td>37025979</td>\n",
       "      <td>2022-05-18 00:00:00.000000</td>\n",
       "      <td>0</td>\n",
       "      <td>NaN</td>\n",
       "      <td>NaN</td>\n",
       "      <td>3</td>\n",
       "      <td>15</td>\n",
       "    </tr>\n",
       "    <tr>\n",
       "      <th>5928</th>\n",
       "      <td>5929</td>\n",
       "      <td>37025979</td>\n",
       "      <td>2022-01-14 00:00:00.000000</td>\n",
       "      <td>0</td>\n",
       "      <td>NaN</td>\n",
       "      <td>NaN</td>\n",
       "      <td>3</td>\n",
       "      <td>15</td>\n",
       "    </tr>\n",
       "    <tr>\n",
       "      <th>6042</th>\n",
       "      <td>6043</td>\n",
       "      <td>45416364</td>\n",
       "      <td>2022-12-18 00:00:00.000000</td>\n",
       "      <td>0</td>\n",
       "      <td>NaN</td>\n",
       "      <td>NaN</td>\n",
       "      <td>30</td>\n",
       "      <td>1125</td>\n",
       "    </tr>\n",
       "    <tr>\n",
       "      <th>6462</th>\n",
       "      <td>6463</td>\n",
       "      <td>37025979</td>\n",
       "      <td>2021-12-30 00:00:00.000000</td>\n",
       "      <td>0</td>\n",
       "      <td>NaN</td>\n",
       "      <td>NaN</td>\n",
       "      <td>3</td>\n",
       "      <td>15</td>\n",
       "    </tr>\n",
       "    <tr>\n",
       "      <th>...</th>\n",
       "      <td>...</td>\n",
       "      <td>...</td>\n",
       "      <td>...</td>\n",
       "      <td>...</td>\n",
       "      <td>...</td>\n",
       "      <td>...</td>\n",
       "      <td>...</td>\n",
       "      <td>...</td>\n",
       "    </tr>\n",
       "    <tr>\n",
       "      <th>294812</th>\n",
       "      <td>294813</td>\n",
       "      <td>37025979</td>\n",
       "      <td>2022-04-04 00:00:00.000000</td>\n",
       "      <td>0</td>\n",
       "      <td>NaN</td>\n",
       "      <td>NaN</td>\n",
       "      <td>3</td>\n",
       "      <td>15</td>\n",
       "    </tr>\n",
       "    <tr>\n",
       "      <th>297040</th>\n",
       "      <td>297041</td>\n",
       "      <td>37025979</td>\n",
       "      <td>2022-05-28 00:00:00.000000</td>\n",
       "      <td>0</td>\n",
       "      <td>NaN</td>\n",
       "      <td>NaN</td>\n",
       "      <td>3</td>\n",
       "      <td>15</td>\n",
       "    </tr>\n",
       "    <tr>\n",
       "      <th>308576</th>\n",
       "      <td>308577</td>\n",
       "      <td>37025979</td>\n",
       "      <td>2022-04-05 00:00:00.000000</td>\n",
       "      <td>0</td>\n",
       "      <td>NaN</td>\n",
       "      <td>NaN</td>\n",
       "      <td>3</td>\n",
       "      <td>15</td>\n",
       "    </tr>\n",
       "    <tr>\n",
       "      <th>310417</th>\n",
       "      <td>310418</td>\n",
       "      <td>37025979</td>\n",
       "      <td>2022-04-18 00:00:00.000000</td>\n",
       "      <td>0</td>\n",
       "      <td>NaN</td>\n",
       "      <td>NaN</td>\n",
       "      <td>3</td>\n",
       "      <td>15</td>\n",
       "    </tr>\n",
       "    <tr>\n",
       "      <th>315594</th>\n",
       "      <td>315595</td>\n",
       "      <td>37025979</td>\n",
       "      <td>2022-04-20 00:00:00.000000</td>\n",
       "      <td>0</td>\n",
       "      <td>NaN</td>\n",
       "      <td>NaN</td>\n",
       "      <td>3</td>\n",
       "      <td>15</td>\n",
       "    </tr>\n",
       "  </tbody>\n",
       "</table>\n",
       "<p>75 rows × 8 columns</p>\n",
       "</div>"
      ],
      "text/plain": [
       "        calender_id  listing_id                        date  available  price  \\\n",
       "2648           2649    37025979  2022-03-20 00:00:00.000000          0    NaN   \n",
       "5035           5036    37025979  2022-05-18 00:00:00.000000          0    NaN   \n",
       "5928           5929    37025979  2022-01-14 00:00:00.000000          0    NaN   \n",
       "6042           6043    45416364  2022-12-18 00:00:00.000000          0    NaN   \n",
       "6462           6463    37025979  2021-12-30 00:00:00.000000          0    NaN   \n",
       "...             ...         ...                         ...        ...    ...   \n",
       "294812       294813    37025979  2022-04-04 00:00:00.000000          0    NaN   \n",
       "297040       297041    37025979  2022-05-28 00:00:00.000000          0    NaN   \n",
       "308576       308577    37025979  2022-04-05 00:00:00.000000          0    NaN   \n",
       "310417       310418    37025979  2022-04-18 00:00:00.000000          0    NaN   \n",
       "315594       315595    37025979  2022-04-20 00:00:00.000000          0    NaN   \n",
       "\n",
       "        adjusted_price  minimum_nights  maximum_nights  \n",
       "2648               NaN               3              15  \n",
       "5035               NaN               3              15  \n",
       "5928               NaN               3              15  \n",
       "6042               NaN              30            1125  \n",
       "6462               NaN               3              15  \n",
       "...                ...             ...             ...  \n",
       "294812             NaN               3              15  \n",
       "297040             NaN               3              15  \n",
       "308576             NaN               3              15  \n",
       "310417             NaN               3              15  \n",
       "315594             NaN               3              15  \n",
       "\n",
       "[75 rows x 8 columns]"
      ]
     },
     "execution_count": 20,
     "metadata": {},
     "output_type": "execute_result"
    }
   ],
   "source": [
    "calendar_df[calendar_df['price'].isnull()]"
   ]
  },
  {
   "cell_type": "markdown",
   "id": "7cbdd7fa",
   "metadata": {},
   "source": [
    "### "
   ]
  },
  {
   "cell_type": "code",
   "execution_count": 21,
   "id": "1889d77c-5bd4-4993-bb0a-496ae65d72b4",
   "metadata": {
    "tags": []
   },
   "outputs": [
    {
     "name": "stdout",
     "output_type": "stream",
     "text": [
      "<class 'pandas.core.frame.DataFrame'>\n",
      "RangeIndex: 319192 entries, 0 to 319191\n",
      "Data columns (total 8 columns):\n",
      " #   Column          Non-Null Count   Dtype  \n",
      "---  ------          --------------   -----  \n",
      " 0   calender_id     319192 non-null  int64  \n",
      " 1   listing_id      319192 non-null  int64  \n",
      " 2   date            319192 non-null  object \n",
      " 3   available       319192 non-null  int64  \n",
      " 4   price           319117 non-null  float64\n",
      " 5   adjusted_price  319117 non-null  float64\n",
      " 6   minimum_nights  319192 non-null  int64  \n",
      " 7   maximum_nights  319192 non-null  int64  \n",
      "dtypes: float64(2), int64(5), object(1)\n",
      "memory usage: 19.5+ MB\n"
     ]
    }
   ],
   "source": [
    "calendar_df.info()"
   ]
  },
  {
   "cell_type": "code",
   "execution_count": 22,
   "id": "a0bd1700",
   "metadata": {
    "tags": []
   },
   "outputs": [
    {
     "name": "stderr",
     "output_type": "stream",
     "text": [
      "C:\\Users\\dell\\anaconda3\\lib\\site-packages\\seaborn\\_decorators.py:36: FutureWarning: Pass the following variable as a keyword arg: x. From version 0.12, the only valid positional argument will be `data`, and passing other arguments without an explicit keyword will result in an error or misinterpretation.\n",
      "  warnings.warn(\n"
     ]
    },
    {
     "data": {
      "text/plain": [
       "<AxesSubplot:xlabel='price'>"
      ]
     },
     "execution_count": 22,
     "metadata": {},
     "output_type": "execute_result"
    },
    {
     "data": {
      "image/png": "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\n",
      "text/plain": [
       "<Figure size 432x288 with 1 Axes>"
      ]
     },
     "metadata": {
      "needs_background": "light"
     },
     "output_type": "display_data"
    }
   ],
   "source": [
    "import seaborn as sns\n",
    "\n",
    "sns.boxplot(calendar_df['price'])"
   ]
  },
  {
   "cell_type": "code",
   "execution_count": 23,
   "id": "cf8c546a",
   "metadata": {
    "tags": []
   },
   "outputs": [
    {
     "data": {
      "text/plain": [
       "<AxesSubplot:xlabel='price', ylabel='Count'>"
      ]
     },
     "execution_count": 23,
     "metadata": {},
     "output_type": "execute_result"
    },
    {
     "data": {
      "image/png": "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\n",
      "text/plain": [
       "<Figure size 432x288 with 1 Axes>"
      ]
     },
     "metadata": {
      "needs_background": "light"
     },
     "output_type": "display_data"
    }
   ],
   "source": [
    "sns.histplot(calendar_df['price'])"
   ]
  },
  {
   "cell_type": "code",
   "execution_count": 24,
   "id": "739dd2ad-d355-4832-8417-2ba1775c6520",
   "metadata": {
    "tags": []
   },
   "outputs": [
    {
     "data": {
      "text/html": [
       "<div>\n",
       "<style scoped>\n",
       "    .dataframe tbody tr th:only-of-type {\n",
       "        vertical-align: middle;\n",
       "    }\n",
       "\n",
       "    .dataframe tbody tr th {\n",
       "        vertical-align: top;\n",
       "    }\n",
       "\n",
       "    .dataframe thead th {\n",
       "        text-align: right;\n",
       "    }\n",
       "</style>\n",
       "<table border=\"1\" class=\"dataframe\">\n",
       "  <thead>\n",
       "    <tr style=\"text-align: right;\">\n",
       "      <th></th>\n",
       "      <th>calender_id</th>\n",
       "      <th>listing_id</th>\n",
       "      <th>available</th>\n",
       "      <th>price</th>\n",
       "      <th>adjusted_price</th>\n",
       "      <th>minimum_nights</th>\n",
       "      <th>maximum_nights</th>\n",
       "    </tr>\n",
       "  </thead>\n",
       "  <tbody>\n",
       "    <tr>\n",
       "      <th>count</th>\n",
       "      <td>319192.000000</td>\n",
       "      <td>3.191920e+05</td>\n",
       "      <td>319192.000000</td>\n",
       "      <td>319117.000000</td>\n",
       "      <td>319117.000000</td>\n",
       "      <td>319192.000000</td>\n",
       "      <td>319192.000000</td>\n",
       "    </tr>\n",
       "    <tr>\n",
       "      <th>mean</th>\n",
       "      <td>159596.500000</td>\n",
       "      <td>3.488528e+07</td>\n",
       "      <td>0.535192</td>\n",
       "      <td>109.917779</td>\n",
       "      <td>109.712131</td>\n",
       "      <td>5.379395</td>\n",
       "      <td>812.206102</td>\n",
       "    </tr>\n",
       "    <tr>\n",
       "      <th>std</th>\n",
       "      <td>92142.937899</td>\n",
       "      <td>1.523257e+07</td>\n",
       "      <td>0.498761</td>\n",
       "      <td>185.791168</td>\n",
       "      <td>185.551851</td>\n",
       "      <td>21.456127</td>\n",
       "      <td>511.622075</td>\n",
       "    </tr>\n",
       "    <tr>\n",
       "      <th>min</th>\n",
       "      <td>1.000000</td>\n",
       "      <td>5.090400e+04</td>\n",
       "      <td>0.000000</td>\n",
       "      <td>13.000000</td>\n",
       "      <td>13.000000</td>\n",
       "      <td>1.000000</td>\n",
       "      <td>1.000000</td>\n",
       "    </tr>\n",
       "    <tr>\n",
       "      <th>25%</th>\n",
       "      <td>79798.750000</td>\n",
       "      <td>2.338661e+07</td>\n",
       "      <td>0.000000</td>\n",
       "      <td>59.000000</td>\n",
       "      <td>58.000000</td>\n",
       "      <td>1.000000</td>\n",
       "      <td>365.000000</td>\n",
       "    </tr>\n",
       "    <tr>\n",
       "      <th>50%</th>\n",
       "      <td>159596.500000</td>\n",
       "      <td>3.891969e+07</td>\n",
       "      <td>1.000000</td>\n",
       "      <td>79.000000</td>\n",
       "      <td>79.000000</td>\n",
       "      <td>2.000000</td>\n",
       "      <td>1125.000000</td>\n",
       "    </tr>\n",
       "    <tr>\n",
       "      <th>75%</th>\n",
       "      <td>239394.250000</td>\n",
       "      <td>4.839174e+07</td>\n",
       "      <td>1.000000</td>\n",
       "      <td>115.000000</td>\n",
       "      <td>115.000000</td>\n",
       "      <td>3.000000</td>\n",
       "      <td>1125.000000</td>\n",
       "    </tr>\n",
       "    <tr>\n",
       "      <th>max</th>\n",
       "      <td>319192.000000</td>\n",
       "      <td>5.398332e+07</td>\n",
       "      <td>1.000000</td>\n",
       "      <td>5800.000000</td>\n",
       "      <td>5800.000000</td>\n",
       "      <td>500.000000</td>\n",
       "      <td>9999.000000</td>\n",
       "    </tr>\n",
       "  </tbody>\n",
       "</table>\n",
       "</div>"
      ],
      "text/plain": [
       "         calender_id    listing_id      available          price  \\\n",
       "count  319192.000000  3.191920e+05  319192.000000  319117.000000   \n",
       "mean   159596.500000  3.488528e+07       0.535192     109.917779   \n",
       "std     92142.937899  1.523257e+07       0.498761     185.791168   \n",
       "min         1.000000  5.090400e+04       0.000000      13.000000   \n",
       "25%     79798.750000  2.338661e+07       0.000000      59.000000   \n",
       "50%    159596.500000  3.891969e+07       1.000000      79.000000   \n",
       "75%    239394.250000  4.839174e+07       1.000000     115.000000   \n",
       "max    319192.000000  5.398332e+07       1.000000    5800.000000   \n",
       "\n",
       "       adjusted_price  minimum_nights  maximum_nights  \n",
       "count   319117.000000   319192.000000   319192.000000  \n",
       "mean       109.712131        5.379395      812.206102  \n",
       "std        185.551851       21.456127      511.622075  \n",
       "min         13.000000        1.000000        1.000000  \n",
       "25%         58.000000        1.000000      365.000000  \n",
       "50%         79.000000        2.000000     1125.000000  \n",
       "75%        115.000000        3.000000     1125.000000  \n",
       "max       5800.000000      500.000000     9999.000000  "
      ]
     },
     "execution_count": 24,
     "metadata": {},
     "output_type": "execute_result"
    }
   ],
   "source": [
    "calendar_df.describe()"
   ]
  },
  {
   "cell_type": "code",
   "execution_count": 25,
   "id": "af6fb468-6e94-40bf-9db3-c2770a383ca8",
   "metadata": {
    "tags": []
   },
   "outputs": [
    {
     "name": "stderr",
     "output_type": "stream",
     "text": [
      "C:\\Users\\dell\\anaconda3\\lib\\site-packages\\seaborn\\distributions.py:2619: FutureWarning: `distplot` is a deprecated function and will be removed in a future version. Please adapt your code to use either `displot` (a figure-level function with similar flexibility) or `histplot` (an axes-level function for histograms).\n",
      "  warnings.warn(msg, FutureWarning)\n"
     ]
    },
    {
     "data": {
      "text/plain": [
       "<AxesSubplot:xlabel='price', ylabel='Density'>"
      ]
     },
     "execution_count": 25,
     "metadata": {},
     "output_type": "execute_result"
    },
    {
     "data": {
      "image/png": "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\n",
      "text/plain": [
       "<Figure size 432x288 with 1 Axes>"
      ]
     },
     "metadata": {
      "needs_background": "light"
     },
     "output_type": "display_data"
    }
   ],
   "source": [
    "import numpy as np\n",
    "sns.distplot((np.log(calendar_df['price'])))"
   ]
  },
  {
   "cell_type": "code",
   "execution_count": 26,
   "id": "b4b04e43-f65c-41b1-b4d4-a2bc38880774",
   "metadata": {
    "tags": []
   },
   "outputs": [
    {
     "name": "stderr",
     "output_type": "stream",
     "text": [
      "C:\\Users\\dell\\anaconda3\\lib\\site-packages\\seaborn\\_decorators.py:36: FutureWarning: Pass the following variable as a keyword arg: x. From version 0.12, the only valid positional argument will be `data`, and passing other arguments without an explicit keyword will result in an error or misinterpretation.\n",
      "  warnings.warn(\n"
     ]
    },
    {
     "data": {
      "text/plain": [
       "<AxesSubplot:xlabel='price'>"
      ]
     },
     "execution_count": 26,
     "metadata": {},
     "output_type": "execute_result"
    },
    {
     "data": {
      "image/png": "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\n",
      "text/plain": [
       "<Figure size 432x288 with 1 Axes>"
      ]
     },
     "metadata": {
      "needs_background": "light"
     },
     "output_type": "display_data"
    }
   ],
   "source": [
    "sns.boxplot(np.log(calendar_df['price']))"
   ]
  },
  {
   "cell_type": "code",
   "execution_count": 27,
   "id": "637f7e9c-1c01-4a13-80ab-1bcefb8d6316",
   "metadata": {
    "tags": []
   },
   "outputs": [
    {
     "data": {
      "text/html": [
       "<div>\n",
       "<style scoped>\n",
       "    .dataframe tbody tr th:only-of-type {\n",
       "        vertical-align: middle;\n",
       "    }\n",
       "\n",
       "    .dataframe tbody tr th {\n",
       "        vertical-align: top;\n",
       "    }\n",
       "\n",
       "    .dataframe thead th {\n",
       "        text-align: right;\n",
       "    }\n",
       "</style>\n",
       "<table border=\"1\" class=\"dataframe\">\n",
       "  <thead>\n",
       "    <tr style=\"text-align: right;\">\n",
       "      <th></th>\n",
       "      <th>calender_id</th>\n",
       "      <th>listing_id</th>\n",
       "      <th>date</th>\n",
       "      <th>available</th>\n",
       "      <th>price</th>\n",
       "      <th>adjusted_price</th>\n",
       "      <th>minimum_nights</th>\n",
       "      <th>maximum_nights</th>\n",
       "      <th>logged_price</th>\n",
       "    </tr>\n",
       "  </thead>\n",
       "  <tbody>\n",
       "    <tr>\n",
       "      <th>0</th>\n",
       "      <td>1</td>\n",
       "      <td>40334325</td>\n",
       "      <td>2022-08-03 00:00:00.000000</td>\n",
       "      <td>0</td>\n",
       "      <td>56.0</td>\n",
       "      <td>56.0</td>\n",
       "      <td>3</td>\n",
       "      <td>5</td>\n",
       "      <td>4.025352</td>\n",
       "    </tr>\n",
       "    <tr>\n",
       "      <th>1</th>\n",
       "      <td>2</td>\n",
       "      <td>22742449</td>\n",
       "      <td>2022-11-13 00:00:00.000000</td>\n",
       "      <td>1</td>\n",
       "      <td>95.0</td>\n",
       "      <td>95.0</td>\n",
       "      <td>2</td>\n",
       "      <td>99</td>\n",
       "      <td>4.553877</td>\n",
       "    </tr>\n",
       "  </tbody>\n",
       "</table>\n",
       "</div>"
      ],
      "text/plain": [
       "   calender_id  listing_id                        date  available  price  \\\n",
       "0            1    40334325  2022-08-03 00:00:00.000000          0   56.0   \n",
       "1            2    22742449  2022-11-13 00:00:00.000000          1   95.0   \n",
       "\n",
       "   adjusted_price  minimum_nights  maximum_nights  logged_price  \n",
       "0            56.0               3               5      4.025352  \n",
       "1            95.0               2              99      4.553877  "
      ]
     },
     "execution_count": 27,
     "metadata": {},
     "output_type": "execute_result"
    }
   ],
   "source": [
    "calendar_df['logged_price'] = np.log(calendar_df['price'])\n",
    "calendar_df.head(2)"
   ]
  },
  {
   "cell_type": "markdown",
   "id": "cf7fd0ea-c401-400e-bf02-4db48ae1764e",
   "metadata": {},
   "source": [
    "- hosts_df = pd.read_csv('hosts.csv')\n",
    "- reviews_df = pd.read_csv('reviews.csv')\n",
    "- listings_df"
   ]
  },
  {
   "cell_type": "code",
   "execution_count": 28,
   "id": "4f097418-22ec-4398-beeb-c37088ff6ced",
   "metadata": {
    "tags": []
   },
   "outputs": [
    {
     "data": {
      "text/html": [
       "<div>\n",
       "<style scoped>\n",
       "    .dataframe tbody tr th:only-of-type {\n",
       "        vertical-align: middle;\n",
       "    }\n",
       "\n",
       "    .dataframe tbody tr th {\n",
       "        vertical-align: top;\n",
       "    }\n",
       "\n",
       "    .dataframe thead th {\n",
       "        text-align: right;\n",
       "    }\n",
       "</style>\n",
       "<table border=\"1\" class=\"dataframe\">\n",
       "  <thead>\n",
       "    <tr style=\"text-align: right;\">\n",
       "      <th></th>\n",
       "      <th>host_id</th>\n",
       "      <th>host_name</th>\n",
       "      <th>host_since</th>\n",
       "      <th>host_location</th>\n",
       "      <th>host_about</th>\n",
       "    </tr>\n",
       "  </thead>\n",
       "  <tbody>\n",
       "    <tr>\n",
       "      <th>0</th>\n",
       "      <td>234077</td>\n",
       "      <td>Karin</td>\n",
       "      <td>2010-09-14 00:00:00.000000</td>\n",
       "      <td>Antwerp, Flanders, Belgium</td>\n",
       "      <td>Ever since my childhood I dreamt of having my ...</td>\n",
       "    </tr>\n",
       "    <tr>\n",
       "      <th>1</th>\n",
       "      <td>334804</td>\n",
       "      <td>Ann</td>\n",
       "      <td>2011-01-04 00:00:00.000000</td>\n",
       "      <td>Antwerp, Flemish Region, Belgium</td>\n",
       "      <td>Ciao, \\r\\nlooking forward to meet you!\\r\\nI lo...</td>\n",
       "    </tr>\n",
       "  </tbody>\n",
       "</table>\n",
       "</div>"
      ],
      "text/plain": [
       "   host_id host_name                  host_since  \\\n",
       "0   234077     Karin  2010-09-14 00:00:00.000000   \n",
       "1   334804       Ann  2011-01-04 00:00:00.000000   \n",
       "\n",
       "                      host_location  \\\n",
       "0        Antwerp, Flanders, Belgium   \n",
       "1  Antwerp, Flemish Region, Belgium   \n",
       "\n",
       "                                          host_about  \n",
       "0  Ever since my childhood I dreamt of having my ...  \n",
       "1  Ciao, \\r\\nlooking forward to meet you!\\r\\nI lo...  "
      ]
     },
     "execution_count": 28,
     "metadata": {},
     "output_type": "execute_result"
    }
   ],
   "source": [
    "hosts_df.head(2)"
   ]
  },
  {
   "cell_type": "code",
   "execution_count": 29,
   "id": "567e3e4e-efbc-49f3-9c46-d5ad11e5f1fd",
   "metadata": {
    "tags": []
   },
   "outputs": [
    {
     "data": {
      "text/html": [
       "<div>\n",
       "<style scoped>\n",
       "    .dataframe tbody tr th:only-of-type {\n",
       "        vertical-align: middle;\n",
       "    }\n",
       "\n",
       "    .dataframe tbody tr th {\n",
       "        vertical-align: top;\n",
       "    }\n",
       "\n",
       "    .dataframe thead th {\n",
       "        text-align: right;\n",
       "    }\n",
       "</style>\n",
       "<table border=\"1\" class=\"dataframe\">\n",
       "  <thead>\n",
       "    <tr style=\"text-align: right;\">\n",
       "      <th></th>\n",
       "      <th>listing_id</th>\n",
       "      <th>listing_url</th>\n",
       "      <th>name</th>\n",
       "      <th>description</th>\n",
       "      <th>latitude</th>\n",
       "      <th>longitude</th>\n",
       "      <th>property_type</th>\n",
       "      <th>room_type</th>\n",
       "      <th>accomodates</th>\n",
       "      <th>bathrooms_text</th>\n",
       "      <th>bedrooms</th>\n",
       "      <th>beds</th>\n",
       "      <th>amenities</th>\n",
       "      <th>host_id</th>\n",
       "    </tr>\n",
       "  </thead>\n",
       "  <tbody>\n",
       "    <tr>\n",
       "      <th>0</th>\n",
       "      <td>50904</td>\n",
       "      <td>https://www.airbnb.com/rooms/50904</td>\n",
       "      <td>aplace/antwerp: cosy suite - fashion district</td>\n",
       "      <td>Decorated in a vintage style combined with a f...</td>\n",
       "      <td>51.218575</td>\n",
       "      <td>4.398631</td>\n",
       "      <td>Room in boutique hotel</td>\n",
       "      <td>Hotel room</td>\n",
       "      <td>2</td>\n",
       "      <td>1 private bath</td>\n",
       "      <td>1.0</td>\n",
       "      <td>1.0</td>\n",
       "      <td>[\"Kitchen\", \"Smoke alarm\", \"Hair dryer\", \"Keyp...</td>\n",
       "      <td>234077</td>\n",
       "    </tr>\n",
       "    <tr>\n",
       "      <th>1</th>\n",
       "      <td>116134</td>\n",
       "      <td>https://www.airbnb.com/rooms/116134</td>\n",
       "      <td>Spacious apartment nearby Mas</td>\n",
       "      <td>Enjoy your stay at our 4 person apartment in t...</td>\n",
       "      <td>51.230510</td>\n",
       "      <td>4.405930</td>\n",
       "      <td>Entire rental unit</td>\n",
       "      <td>Entire home/apt</td>\n",
       "      <td>4</td>\n",
       "      <td>2.5 baths</td>\n",
       "      <td>2.0</td>\n",
       "      <td>2.0</td>\n",
       "      <td>[\"Refrigerator\", \"Elevator\", \"Paid street park...</td>\n",
       "      <td>586942</td>\n",
       "    </tr>\n",
       "  </tbody>\n",
       "</table>\n",
       "</div>"
      ],
      "text/plain": [
       "   listing_id                          listing_url  \\\n",
       "0       50904   https://www.airbnb.com/rooms/50904   \n",
       "1      116134  https://www.airbnb.com/rooms/116134   \n",
       "\n",
       "                                            name  \\\n",
       "0  aplace/antwerp: cosy suite - fashion district   \n",
       "1                  Spacious apartment nearby Mas   \n",
       "\n",
       "                                         description   latitude  longitude  \\\n",
       "0  Decorated in a vintage style combined with a f...  51.218575   4.398631   \n",
       "1  Enjoy your stay at our 4 person apartment in t...  51.230510   4.405930   \n",
       "\n",
       "            property_type        room_type  accomodates  bathrooms_text  \\\n",
       "0  Room in boutique hotel       Hotel room            2  1 private bath   \n",
       "1      Entire rental unit  Entire home/apt            4       2.5 baths   \n",
       "\n",
       "   bedrooms  beds                                          amenities  host_id  \n",
       "0       1.0   1.0  [\"Kitchen\", \"Smoke alarm\", \"Hair dryer\", \"Keyp...   234077  \n",
       "1       2.0   2.0  [\"Refrigerator\", \"Elevator\", \"Paid street park...   586942  "
      ]
     },
     "execution_count": 29,
     "metadata": {},
     "output_type": "execute_result"
    }
   ],
   "source": [
    "listings_df.head(2)"
   ]
  },
  {
   "cell_type": "code",
   "execution_count": 30,
   "id": "1c6787d2-273a-414c-aef5-f8ac5015d1b6",
   "metadata": {
    "tags": []
   },
   "outputs": [
    {
     "data": {
      "text/html": [
       "<div>\n",
       "<style scoped>\n",
       "    .dataframe tbody tr th:only-of-type {\n",
       "        vertical-align: middle;\n",
       "    }\n",
       "\n",
       "    .dataframe tbody tr th {\n",
       "        vertical-align: top;\n",
       "    }\n",
       "\n",
       "    .dataframe thead th {\n",
       "        text-align: right;\n",
       "    }\n",
       "</style>\n",
       "<table border=\"1\" class=\"dataframe\">\n",
       "  <thead>\n",
       "    <tr style=\"text-align: right;\">\n",
       "      <th></th>\n",
       "      <th>review_id</th>\n",
       "      <th>listing_id</th>\n",
       "      <th>date</th>\n",
       "      <th>reviewer_id</th>\n",
       "      <th>reviewer_name</th>\n",
       "      <th>comments</th>\n",
       "    </tr>\n",
       "  </thead>\n",
       "  <tbody>\n",
       "    <tr>\n",
       "      <th>0</th>\n",
       "      <td>1</td>\n",
       "      <td>50904</td>\n",
       "      <td>2015-05-06 00:00:00.000000</td>\n",
       "      <td>19482395</td>\n",
       "      <td>Jihae</td>\n",
       "      <td>Karin’s “Aplace” is absolutely beautiful and c...</td>\n",
       "    </tr>\n",
       "    <tr>\n",
       "      <th>1</th>\n",
       "      <td>2</td>\n",
       "      <td>50904</td>\n",
       "      <td>2021-10-10 00:00:00.000000</td>\n",
       "      <td>333559</td>\n",
       "      <td>Emilie</td>\n",
       "      <td>Karin is a wonderful host, she was really help...</td>\n",
       "    </tr>\n",
       "    <tr>\n",
       "      <th>2</th>\n",
       "      <td>3</td>\n",
       "      <td>116134</td>\n",
       "      <td>2012-03-05 00:00:00.000000</td>\n",
       "      <td>928644</td>\n",
       "      <td>Aurélien</td>\n",
       "      <td>Amazing flat, really close from the MAS Musem,...</td>\n",
       "    </tr>\n",
       "    <tr>\n",
       "      <th>3</th>\n",
       "      <td>4</td>\n",
       "      <td>116134</td>\n",
       "      <td>2012-05-25 00:00:00.000000</td>\n",
       "      <td>231288</td>\n",
       "      <td>Gail</td>\n",
       "      <td>This is a well equipped, very comfortable apar...</td>\n",
       "    </tr>\n",
       "    <tr>\n",
       "      <th>4</th>\n",
       "      <td>5</td>\n",
       "      <td>116134</td>\n",
       "      <td>2013-09-03 00:00:00.000000</td>\n",
       "      <td>7984251</td>\n",
       "      <td>Marcel</td>\n",
       "      <td>This is a very nice appartement. We really lik...</td>\n",
       "    </tr>\n",
       "  </tbody>\n",
       "</table>\n",
       "</div>"
      ],
      "text/plain": [
       "   review_id  listing_id                        date  reviewer_id  \\\n",
       "0          1       50904  2015-05-06 00:00:00.000000     19482395   \n",
       "1          2       50904  2021-10-10 00:00:00.000000       333559   \n",
       "2          3      116134  2012-03-05 00:00:00.000000       928644   \n",
       "3          4      116134  2012-05-25 00:00:00.000000       231288   \n",
       "4          5      116134  2013-09-03 00:00:00.000000      7984251   \n",
       "\n",
       "  reviewer_name                                           comments  \n",
       "0         Jihae  Karin’s “Aplace” is absolutely beautiful and c...  \n",
       "1        Emilie  Karin is a wonderful host, she was really help...  \n",
       "2      Aurélien  Amazing flat, really close from the MAS Musem,...  \n",
       "3          Gail  This is a well equipped, very comfortable apar...  \n",
       "4        Marcel  This is a very nice appartement. We really lik...  "
      ]
     },
     "execution_count": 30,
     "metadata": {},
     "output_type": "execute_result"
    }
   ],
   "source": [
    "reviews_df.head()"
   ]
  },
  {
   "cell_type": "markdown",
   "id": "4cf5456e-a864-41db-9990-cde191282ba4",
   "metadata": {},
   "source": [
    "### Observation:\n",
    "- we need to comibine all the dataframes into single dataframe."
   ]
  },
  {
   "cell_type": "code",
   "execution_count": 31,
   "id": "071c793e-ea78-462c-a989-b640331b8dff",
   "metadata": {
    "tags": []
   },
   "outputs": [
    {
     "name": "stdout",
     "output_type": "stream",
     "text": [
      "<class 'pandas.core.frame.DataFrame'>\n",
      "Int64Index: 1749 entries, 0 to 1748\n",
      "Data columns (total 18 columns):\n",
      " #   Column          Non-Null Count  Dtype  \n",
      "---  ------          --------------  -----  \n",
      " 0   host_id         1749 non-null   int64  \n",
      " 1   host_name       1749 non-null   object \n",
      " 2   host_since      1749 non-null   object \n",
      " 3   host_location   1746 non-null   object \n",
      " 4   host_about      865 non-null    object \n",
      " 5   listing_id      1749 non-null   int64  \n",
      " 6   listing_url     1749 non-null   object \n",
      " 7   name            1749 non-null   object \n",
      " 8   description     1679 non-null   object \n",
      " 9   latitude        1749 non-null   float64\n",
      " 10  longitude       1749 non-null   float64\n",
      " 11  property_type   1749 non-null   object \n",
      " 12  room_type       1749 non-null   object \n",
      " 13  accomodates     1749 non-null   int64  \n",
      " 14  bathrooms_text  1749 non-null   object \n",
      " 15  bedrooms        1621 non-null   float64\n",
      " 16  beds            1708 non-null   float64\n",
      " 17  amenities       1749 non-null   object \n",
      "dtypes: float64(4), int64(3), object(11)\n",
      "memory usage: 259.6+ KB\n"
     ]
    }
   ],
   "source": [
    "d1 = hosts_df.merge(listings_df, on = 'host_id', how = 'inner')\n",
    "d1.info()"
   ]
  },
  {
   "cell_type": "code",
   "execution_count": 32,
   "id": "57347d47-51fa-475b-82f9-7b00e62bbffa",
   "metadata": {
    "tags": []
   },
   "outputs": [
    {
     "data": {
      "text/plain": [
       "Index(['calender_id', 'listing_id', 'date', 'available', 'price',\n",
       "       'adjusted_price', 'minimum_nights', 'maximum_nights', 'logged_price',\n",
       "       'host_id', 'host_name', 'host_since', 'host_location', 'host_about',\n",
       "       'listing_url', 'name', 'description', 'latitude', 'longitude',\n",
       "       'property_type', 'room_type', 'accomodates', 'bathrooms_text',\n",
       "       'bedrooms', 'beds', 'amenities'],\n",
       "      dtype='object')"
      ]
     },
     "execution_count": 32,
     "metadata": {},
     "output_type": "execute_result"
    }
   ],
   "source": [
    "# now lets joins calendar_df with d1\n",
    "d2 = calendar_df.merge(d1, on = 'listing_id', how  = 'inner' )\n",
    "d2.columns"
   ]
  },
  {
   "cell_type": "code",
   "execution_count": 33,
   "id": "1cfc2409-c164-4d88-8db6-11700cd760d0",
   "metadata": {
    "tags": []
   },
   "outputs": [
    {
     "name": "stdout",
     "output_type": "stream",
     "text": [
      "<class 'pandas.core.frame.DataFrame'>\n",
      "Int64Index: 319192 entries, 0 to 319191\n",
      "Data columns (total 26 columns):\n",
      " #   Column          Non-Null Count   Dtype  \n",
      "---  ------          --------------   -----  \n",
      " 0   calender_id     319192 non-null  int64  \n",
      " 1   listing_id      319192 non-null  int64  \n",
      " 2   date            319192 non-null  object \n",
      " 3   available       319192 non-null  int64  \n",
      " 4   price           319117 non-null  float64\n",
      " 5   adjusted_price  319117 non-null  float64\n",
      " 6   minimum_nights  319192 non-null  int64  \n",
      " 7   maximum_nights  319192 non-null  int64  \n",
      " 8   logged_price    319117 non-null  float64\n",
      " 9   host_id         319192 non-null  int64  \n",
      " 10  host_name       319192 non-null  object \n",
      " 11  host_since      319192 non-null  object \n",
      " 12  host_location   318631 non-null  object \n",
      " 13  host_about      157616 non-null  object \n",
      " 14  listing_url     319192 non-null  object \n",
      " 15  name            319192 non-null  object \n",
      " 16  description     306489 non-null  object \n",
      " 17  latitude        319192 non-null  float64\n",
      " 18  longitude       319192 non-null  float64\n",
      " 19  property_type   319192 non-null  object \n",
      " 20  room_type       319192 non-null  object \n",
      " 21  accomodates     319192 non-null  int64  \n",
      " 22  bathrooms_text  319192 non-null  object \n",
      " 23  bedrooms        295816 non-null  float64\n",
      " 24  beds            311764 non-null  float64\n",
      " 25  amenities       319192 non-null  object \n",
      "dtypes: float64(7), int64(7), object(12)\n",
      "memory usage: 65.8+ MB\n"
     ]
    }
   ],
   "source": [
    "d2.info()"
   ]
  },
  {
   "cell_type": "code",
   "execution_count": 34,
   "id": "bf5f604f-e825-4e91-b807-39a2a6f4a5d0",
   "metadata": {
    "tags": []
   },
   "outputs": [
    {
     "data": {
      "text/plain": [
       "Index(['review_id', 'listing_id', 'date', 'reviewer_id', 'reviewer_name',\n",
       "       'comments'],\n",
       "      dtype='object')"
      ]
     },
     "execution_count": 34,
     "metadata": {},
     "output_type": "execute_result"
    }
   ],
   "source": [
    "reviews_df.columns"
   ]
  },
  {
   "cell_type": "code",
   "execution_count": 35,
   "id": "18dc5875-304d-49d0-8c6c-215a15ee46a1",
   "metadata": {
    "tags": []
   },
   "outputs": [
    {
     "data": {
      "text/plain": [
       "Index(['calender_id', 'listing_id', 'date', 'available', 'price',\n",
       "       'adjusted_price', 'minimum_nights', 'maximum_nights', 'logged_price',\n",
       "       'host_id', 'host_name', 'host_since', 'host_location', 'host_about',\n",
       "       'listing_url', 'name', 'description', 'latitude', 'longitude',\n",
       "       'property_type', 'room_type', 'accomodates', 'bathrooms_text',\n",
       "       'bedrooms', 'beds', 'amenities'],\n",
       "      dtype='object')"
      ]
     },
     "execution_count": 35,
     "metadata": {},
     "output_type": "execute_result"
    }
   ],
   "source": [
    "d2.columns"
   ]
  },
  {
   "cell_type": "code",
   "execution_count": 36,
   "id": "489aef9f-0a46-4785-acdd-567320f751eb",
   "metadata": {
    "tags": []
   },
   "outputs": [
    {
     "name": "stdout",
     "output_type": "stream",
     "text": [
      "<class 'pandas.core.frame.DataFrame'>\n",
      "Int64Index: 319192 entries, 0 to 319191\n",
      "Data columns (total 26 columns):\n",
      " #   Column          Non-Null Count   Dtype  \n",
      "---  ------          --------------   -----  \n",
      " 0   calender_id     319192 non-null  int64  \n",
      " 1   listing_id      319192 non-null  int64  \n",
      " 2   date            319192 non-null  object \n",
      " 3   available       319192 non-null  int64  \n",
      " 4   price           319117 non-null  float64\n",
      " 5   adjusted_price  319117 non-null  float64\n",
      " 6   minimum_nights  319192 non-null  int64  \n",
      " 7   maximum_nights  319192 non-null  int64  \n",
      " 8   logged_price    319117 non-null  float64\n",
      " 9   host_id         319192 non-null  int64  \n",
      " 10  host_name       319192 non-null  object \n",
      " 11  host_since      319192 non-null  object \n",
      " 12  host_location   318631 non-null  object \n",
      " 13  host_about      157616 non-null  object \n",
      " 14  listing_url     319192 non-null  object \n",
      " 15  name            319192 non-null  object \n",
      " 16  description     306489 non-null  object \n",
      " 17  latitude        319192 non-null  float64\n",
      " 18  longitude       319192 non-null  float64\n",
      " 19  property_type   319192 non-null  object \n",
      " 20  room_type       319192 non-null  object \n",
      " 21  accomodates     319192 non-null  int64  \n",
      " 22  bathrooms_text  319192 non-null  object \n",
      " 23  bedrooms        295816 non-null  float64\n",
      " 24  beds            311764 non-null  float64\n",
      " 25  amenities       319192 non-null  object \n",
      "dtypes: float64(7), int64(7), object(12)\n",
      "memory usage: 65.8+ MB\n"
     ]
    }
   ],
   "source": [
    "d2.info()"
   ]
  },
  {
   "cell_type": "code",
   "execution_count": 37,
   "id": "68d27e20-2727-40f4-a9d1-cf688ebf3c94",
   "metadata": {
    "tags": []
   },
   "outputs": [
    {
     "data": {
      "text/html": [
       "<div>\n",
       "<style scoped>\n",
       "    .dataframe tbody tr th:only-of-type {\n",
       "        vertical-align: middle;\n",
       "    }\n",
       "\n",
       "    .dataframe tbody tr th {\n",
       "        vertical-align: top;\n",
       "    }\n",
       "\n",
       "    .dataframe thead th {\n",
       "        text-align: right;\n",
       "    }\n",
       "</style>\n",
       "<table border=\"1\" class=\"dataframe\">\n",
       "  <thead>\n",
       "    <tr style=\"text-align: right;\">\n",
       "      <th></th>\n",
       "      <th>review_id</th>\n",
       "      <th>listing_id</th>\n",
       "      <th>reviewer_id</th>\n",
       "    </tr>\n",
       "  </thead>\n",
       "  <tbody>\n",
       "    <tr>\n",
       "      <th>count</th>\n",
       "      <td>62987.00000</td>\n",
       "      <td>6.298700e+04</td>\n",
       "      <td>6.298700e+04</td>\n",
       "    </tr>\n",
       "    <tr>\n",
       "      <th>mean</th>\n",
       "      <td>31494.00000</td>\n",
       "      <td>2.277250e+07</td>\n",
       "      <td>1.148883e+08</td>\n",
       "    </tr>\n",
       "    <tr>\n",
       "      <th>std</th>\n",
       "      <td>18182.92504</td>\n",
       "      <td>1.417794e+07</td>\n",
       "      <td>1.132804e+08</td>\n",
       "    </tr>\n",
       "    <tr>\n",
       "      <th>min</th>\n",
       "      <td>1.00000</td>\n",
       "      <td>5.090400e+04</td>\n",
       "      <td>5.150000e+02</td>\n",
       "    </tr>\n",
       "    <tr>\n",
       "      <th>25%</th>\n",
       "      <td>15747.50000</td>\n",
       "      <td>9.913124e+06</td>\n",
       "      <td>2.433136e+07</td>\n",
       "    </tr>\n",
       "    <tr>\n",
       "      <th>50%</th>\n",
       "      <td>31494.00000</td>\n",
       "      <td>2.165832e+07</td>\n",
       "      <td>7.226982e+07</td>\n",
       "    </tr>\n",
       "    <tr>\n",
       "      <th>75%</th>\n",
       "      <td>47240.50000</td>\n",
       "      <td>3.405420e+07</td>\n",
       "      <td>1.782096e+08</td>\n",
       "    </tr>\n",
       "    <tr>\n",
       "      <th>max</th>\n",
       "      <td>62987.00000</td>\n",
       "      <td>5.382519e+07</td>\n",
       "      <td>4.367984e+08</td>\n",
       "    </tr>\n",
       "  </tbody>\n",
       "</table>\n",
       "</div>"
      ],
      "text/plain": [
       "         review_id    listing_id   reviewer_id\n",
       "count  62987.00000  6.298700e+04  6.298700e+04\n",
       "mean   31494.00000  2.277250e+07  1.148883e+08\n",
       "std    18182.92504  1.417794e+07  1.132804e+08\n",
       "min        1.00000  5.090400e+04  5.150000e+02\n",
       "25%    15747.50000  9.913124e+06  2.433136e+07\n",
       "50%    31494.00000  2.165832e+07  7.226982e+07\n",
       "75%    47240.50000  3.405420e+07  1.782096e+08\n",
       "max    62987.00000  5.382519e+07  4.367984e+08"
      ]
     },
     "execution_count": 37,
     "metadata": {},
     "output_type": "execute_result"
    }
   ],
   "source": [
    "reviews_df.describe()"
   ]
  },
  {
   "cell_type": "code",
   "execution_count": 38,
   "id": "7f3e34e0-0ca8-4054-92ad-1f1661376e58",
   "metadata": {
    "tags": []
   },
   "outputs": [
    {
     "data": {
      "text/html": [
       "<div>\n",
       "<style scoped>\n",
       "    .dataframe tbody tr th:only-of-type {\n",
       "        vertical-align: middle;\n",
       "    }\n",
       "\n",
       "    .dataframe tbody tr th {\n",
       "        vertical-align: top;\n",
       "    }\n",
       "\n",
       "    .dataframe thead th {\n",
       "        text-align: right;\n",
       "    }\n",
       "</style>\n",
       "<table border=\"1\" class=\"dataframe\">\n",
       "  <thead>\n",
       "    <tr style=\"text-align: right;\">\n",
       "      <th></th>\n",
       "      <th>calender_id</th>\n",
       "      <th>listing_id</th>\n",
       "      <th>available</th>\n",
       "      <th>price</th>\n",
       "      <th>adjusted_price</th>\n",
       "      <th>minimum_nights</th>\n",
       "      <th>maximum_nights</th>\n",
       "      <th>logged_price</th>\n",
       "      <th>host_id</th>\n",
       "      <th>latitude</th>\n",
       "      <th>longitude</th>\n",
       "      <th>accomodates</th>\n",
       "      <th>bedrooms</th>\n",
       "      <th>beds</th>\n",
       "    </tr>\n",
       "  </thead>\n",
       "  <tbody>\n",
       "    <tr>\n",
       "      <th>count</th>\n",
       "      <td>319192.000000</td>\n",
       "      <td>3.191920e+05</td>\n",
       "      <td>319192.000000</td>\n",
       "      <td>319117.000000</td>\n",
       "      <td>319117.000000</td>\n",
       "      <td>319192.000000</td>\n",
       "      <td>319192.000000</td>\n",
       "      <td>319117.000000</td>\n",
       "      <td>3.191920e+05</td>\n",
       "      <td>319192.000000</td>\n",
       "      <td>319192.000000</td>\n",
       "      <td>319192.000000</td>\n",
       "      <td>295816.000000</td>\n",
       "      <td>311764.000000</td>\n",
       "    </tr>\n",
       "    <tr>\n",
       "      <th>mean</th>\n",
       "      <td>159596.500000</td>\n",
       "      <td>3.488528e+07</td>\n",
       "      <td>0.535192</td>\n",
       "      <td>109.917779</td>\n",
       "      <td>109.712131</td>\n",
       "      <td>5.379395</td>\n",
       "      <td>812.206102</td>\n",
       "      <td>4.427648</td>\n",
       "      <td>1.418691e+08</td>\n",
       "      <td>51.214075</td>\n",
       "      <td>4.413150</td>\n",
       "      <td>3.762619</td>\n",
       "      <td>1.529028</td>\n",
       "      <td>2.222784</td>\n",
       "    </tr>\n",
       "    <tr>\n",
       "      <th>std</th>\n",
       "      <td>92142.937899</td>\n",
       "      <td>1.523257e+07</td>\n",
       "      <td>0.498761</td>\n",
       "      <td>185.791168</td>\n",
       "      <td>185.551851</td>\n",
       "      <td>21.456127</td>\n",
       "      <td>511.622075</td>\n",
       "      <td>0.624997</td>\n",
       "      <td>1.287545e+08</td>\n",
       "      <td>0.013730</td>\n",
       "      <td>0.019365</td>\n",
       "      <td>2.771459</td>\n",
       "      <td>1.097678</td>\n",
       "      <td>2.249001</td>\n",
       "    </tr>\n",
       "    <tr>\n",
       "      <th>min</th>\n",
       "      <td>1.000000</td>\n",
       "      <td>5.090400e+04</td>\n",
       "      <td>0.000000</td>\n",
       "      <td>13.000000</td>\n",
       "      <td>13.000000</td>\n",
       "      <td>1.000000</td>\n",
       "      <td>1.000000</td>\n",
       "      <td>2.564949</td>\n",
       "      <td>2.340770e+05</td>\n",
       "      <td>51.160084</td>\n",
       "      <td>4.290770</td>\n",
       "      <td>1.000000</td>\n",
       "      <td>1.000000</td>\n",
       "      <td>1.000000</td>\n",
       "    </tr>\n",
       "    <tr>\n",
       "      <th>25%</th>\n",
       "      <td>79798.750000</td>\n",
       "      <td>2.338661e+07</td>\n",
       "      <td>0.000000</td>\n",
       "      <td>59.000000</td>\n",
       "      <td>58.000000</td>\n",
       "      <td>1.000000</td>\n",
       "      <td>365.000000</td>\n",
       "      <td>4.077537</td>\n",
       "      <td>2.875771e+07</td>\n",
       "      <td>51.207870</td>\n",
       "      <td>4.400140</td>\n",
       "      <td>2.000000</td>\n",
       "      <td>1.000000</td>\n",
       "      <td>1.000000</td>\n",
       "    </tr>\n",
       "    <tr>\n",
       "      <th>50%</th>\n",
       "      <td>159596.500000</td>\n",
       "      <td>3.891969e+07</td>\n",
       "      <td>1.000000</td>\n",
       "      <td>79.000000</td>\n",
       "      <td>79.000000</td>\n",
       "      <td>2.000000</td>\n",
       "      <td>1125.000000</td>\n",
       "      <td>4.369448</td>\n",
       "      <td>1.033579e+08</td>\n",
       "      <td>51.216550</td>\n",
       "      <td>4.409460</td>\n",
       "      <td>3.000000</td>\n",
       "      <td>1.000000</td>\n",
       "      <td>2.000000</td>\n",
       "    </tr>\n",
       "    <tr>\n",
       "      <th>75%</th>\n",
       "      <td>239394.250000</td>\n",
       "      <td>4.839174e+07</td>\n",
       "      <td>1.000000</td>\n",
       "      <td>115.000000</td>\n",
       "      <td>115.000000</td>\n",
       "      <td>3.000000</td>\n",
       "      <td>1125.000000</td>\n",
       "      <td>4.744932</td>\n",
       "      <td>2.354916e+08</td>\n",
       "      <td>51.220880</td>\n",
       "      <td>4.424660</td>\n",
       "      <td>4.000000</td>\n",
       "      <td>2.000000</td>\n",
       "      <td>3.000000</td>\n",
       "    </tr>\n",
       "    <tr>\n",
       "      <th>max</th>\n",
       "      <td>319192.000000</td>\n",
       "      <td>5.398332e+07</td>\n",
       "      <td>1.000000</td>\n",
       "      <td>5800.000000</td>\n",
       "      <td>5800.000000</td>\n",
       "      <td>500.000000</td>\n",
       "      <td>9999.000000</td>\n",
       "      <td>8.665613</td>\n",
       "      <td>4.373093e+08</td>\n",
       "      <td>51.349400</td>\n",
       "      <td>4.483470</td>\n",
       "      <td>16.000000</td>\n",
       "      <td>20.000000</td>\n",
       "      <td>44.000000</td>\n",
       "    </tr>\n",
       "  </tbody>\n",
       "</table>\n",
       "</div>"
      ],
      "text/plain": [
       "         calender_id    listing_id      available          price  \\\n",
       "count  319192.000000  3.191920e+05  319192.000000  319117.000000   \n",
       "mean   159596.500000  3.488528e+07       0.535192     109.917779   \n",
       "std     92142.937899  1.523257e+07       0.498761     185.791168   \n",
       "min         1.000000  5.090400e+04       0.000000      13.000000   \n",
       "25%     79798.750000  2.338661e+07       0.000000      59.000000   \n",
       "50%    159596.500000  3.891969e+07       1.000000      79.000000   \n",
       "75%    239394.250000  4.839174e+07       1.000000     115.000000   \n",
       "max    319192.000000  5.398332e+07       1.000000    5800.000000   \n",
       "\n",
       "       adjusted_price  minimum_nights  maximum_nights   logged_price  \\\n",
       "count   319117.000000   319192.000000   319192.000000  319117.000000   \n",
       "mean       109.712131        5.379395      812.206102       4.427648   \n",
       "std        185.551851       21.456127      511.622075       0.624997   \n",
       "min         13.000000        1.000000        1.000000       2.564949   \n",
       "25%         58.000000        1.000000      365.000000       4.077537   \n",
       "50%         79.000000        2.000000     1125.000000       4.369448   \n",
       "75%        115.000000        3.000000     1125.000000       4.744932   \n",
       "max       5800.000000      500.000000     9999.000000       8.665613   \n",
       "\n",
       "            host_id       latitude      longitude    accomodates  \\\n",
       "count  3.191920e+05  319192.000000  319192.000000  319192.000000   \n",
       "mean   1.418691e+08      51.214075       4.413150       3.762619   \n",
       "std    1.287545e+08       0.013730       0.019365       2.771459   \n",
       "min    2.340770e+05      51.160084       4.290770       1.000000   \n",
       "25%    2.875771e+07      51.207870       4.400140       2.000000   \n",
       "50%    1.033579e+08      51.216550       4.409460       3.000000   \n",
       "75%    2.354916e+08      51.220880       4.424660       4.000000   \n",
       "max    4.373093e+08      51.349400       4.483470      16.000000   \n",
       "\n",
       "            bedrooms           beds  \n",
       "count  295816.000000  311764.000000  \n",
       "mean        1.529028       2.222784  \n",
       "std         1.097678       2.249001  \n",
       "min         1.000000       1.000000  \n",
       "25%         1.000000       1.000000  \n",
       "50%         1.000000       2.000000  \n",
       "75%         2.000000       3.000000  \n",
       "max        20.000000      44.000000  "
      ]
     },
     "execution_count": 38,
     "metadata": {},
     "output_type": "execute_result"
    }
   ],
   "source": [
    "d2.describe()"
   ]
  },
  {
   "cell_type": "code",
   "execution_count": 39,
   "id": "4b10cfd8-4f04-44e9-a381-506770d7d431",
   "metadata": {
    "tags": []
   },
   "outputs": [
    {
     "name": "stdout",
     "output_type": "stream",
     "text": [
      "<class 'pandas.core.frame.DataFrame'>\n",
      "RangeIndex: 62987 entries, 0 to 62986\n",
      "Data columns (total 6 columns):\n",
      " #   Column         Non-Null Count  Dtype \n",
      "---  ------         --------------  ----- \n",
      " 0   review_id      62987 non-null  int64 \n",
      " 1   listing_id     62987 non-null  int64 \n",
      " 2   date           62987 non-null  object\n",
      " 3   reviewer_id    62987 non-null  int64 \n",
      " 4   reviewer_name  62987 non-null  object\n",
      " 5   comments       62923 non-null  object\n",
      "dtypes: int64(3), object(3)\n",
      "memory usage: 2.9+ MB\n"
     ]
    }
   ],
   "source": [
    "reviews_df.info()"
   ]
  },
  {
   "cell_type": "code",
   "execution_count": 41,
   "id": "902ef4c6-7785-4363-ab69-8a0729cb9dfe",
   "metadata": {
    "tags": []
   },
   "outputs": [
    {
     "name": "stdout",
     "output_type": "stream",
     "text": [
      "<class 'pandas.core.frame.DataFrame'>\n",
      "Int64Index: 11468769 entries, 0 to 11468768\n",
      "Data columns (total 31 columns):\n",
      " #   Column          Dtype  \n",
      "---  ------          -----  \n",
      " 0   calender_id     int64  \n",
      " 1   listing_id      int64  \n",
      " 2   date_x          object \n",
      " 3   available       int64  \n",
      " 4   price           float64\n",
      " 5   adjusted_price  float64\n",
      " 6   minimum_nights  int64  \n",
      " 7   maximum_nights  int64  \n",
      " 8   logged_price    float64\n",
      " 9   host_id         int64  \n",
      " 10  host_name       object \n",
      " 11  host_since      object \n",
      " 12  host_location   object \n",
      " 13  host_about      object \n",
      " 14  listing_url     object \n",
      " 15  name            object \n",
      " 16  description     object \n",
      " 17  latitude        float64\n",
      " 18  longitude       float64\n",
      " 19  property_type   object \n",
      " 20  room_type       object \n",
      " 21  accomodates     int64  \n",
      " 22  bathrooms_text  object \n",
      " 23  bedrooms        float64\n",
      " 24  beds            float64\n",
      " 25  amenities       object \n",
      " 26  review_id       int64  \n",
      " 27  date_y          object \n",
      " 28  reviewer_id     int64  \n",
      " 29  reviewer_name   object \n",
      " 30  comments        object \n",
      "dtypes: float64(7), int64(9), object(15)\n",
      "memory usage: 2.7+ GB\n"
     ]
    }
   ],
   "source": [
<<<<<<< HEAD
<<<<<<< HEAD
    "# d2.merge(reviews_df, on =\"listing_id\" , how = \"inner\")"
=======
    "df_full = d2.merge(reviews_df, on =\"listing_id\" , how = \"inner\")\n",
    "df_full.info()"
>>>>>>> 649f16aa49c99e8c288afc08a0bd5758eb6d2b65
=======
    "d2.merge(reviews_df, on =\"listing_id\" , how = \"inner\")"
>>>>>>> parent of adf1740 (3)
   ]
  },
  {
   "cell_type": "code",
   "execution_count": null,
   "id": "f2af6a8c-2780-47eb-9f4e-98f68b34a047",
   "metadata": {},
   "outputs": [],
   "source": []
  }
 ],
 "metadata": {
  "kernelspec": {
   "display_name": "Python 3 (ipykernel)",
   "language": "python",
   "name": "python3"
  },
  "language_info": {
   "codemirror_mode": {
    "name": "ipython",
    "version": 3
   },
   "file_extension": ".py",
   "mimetype": "text/x-python",
   "name": "python",
   "nbconvert_exporter": "python",
   "pygments_lexer": "ipython3",
   "version": "3.9.7"
  }
 },
 "nbformat": 4,
 "nbformat_minor": 5
}
