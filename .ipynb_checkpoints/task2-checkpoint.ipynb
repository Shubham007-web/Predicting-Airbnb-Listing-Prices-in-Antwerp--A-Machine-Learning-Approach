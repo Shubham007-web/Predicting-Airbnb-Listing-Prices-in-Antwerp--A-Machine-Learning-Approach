{
 "cells": [
  {
   "cell_type": "markdown",
   "id": "4761487f-a580-4fde-9482-503a2baac2e5",
   "metadata": {},
   "source": [
    "# Task 2.1: Variable Profiling and Relationship Checking\n",
    "\n",
    "- Assess the relationship between target and predictor variables using correlation analysis and plotting bivariate relationships.\n",
    "- Summarize findings from the analysis and decide on transformations for predictors, excluding variables from further analysis as necessary."
   ]
  },
  {
   "cell_type": "code",
   "execution_count": null,
   "id": "52c36a1b-7bf8-4b88-a137-00ea7e4d2c3f",
   "metadata": {},
   "outputs": [],
   "source": []
  },
  {
   "cell_type": "code",
   "execution_count": null,
   "id": "cd07e625-7d01-426d-a13f-c31f0a570e6a",
   "metadata": {},
   "outputs": [],
   "source": []
  },
  {
   "cell_type": "code",
   "execution_count": null,
   "id": "3a17e22d-c644-48a5-9b79-671a0466886e",
   "metadata": {},
   "outputs": [],
   "source": []
  },
  {
   "cell_type": "markdown",
   "id": "a7c56778-ab83-4d28-be7d-7d2a04748595",
   "metadata": {},
   "source": [
    "# Task 2.2: Modeling and Insights\n",
    "\n",
    "- Describe the strategy for creating train/test/validation splits.\n",
    "- Compare different regression models (Linear Regression, Regression Trees, Random Forest Regressor, GBM, and optionally Xgboost, LightGBM) and select the best model.\n",
    "- Explain the choice of the final model and the top 5 most important predictors, including the direction of their impact on the target variable.`m"
   ]
  },
  {
   "cell_type": "code",
   "execution_count": null,
   "id": "35a56c76-7ecd-4195-83ab-980b353149d8",
   "metadata": {},
   "outputs": [],
   "source": []
  }
 ],
 "metadata": {
  "kernelspec": {
   "display_name": "Python 3 (ipykernel)",
   "language": "python",
   "name": "python3"
  },
  "language_info": {
   "codemirror_mode": {
    "name": "ipython",
    "version": 3
   },
   "file_extension": ".py",
   "mimetype": "text/x-python",
   "name": "python",
   "nbconvert_exporter": "python",
   "pygments_lexer": "ipython3",
   "version": "3.11.3"
  }
 },
 "nbformat": 4,
 "nbformat_minor": 5
}
