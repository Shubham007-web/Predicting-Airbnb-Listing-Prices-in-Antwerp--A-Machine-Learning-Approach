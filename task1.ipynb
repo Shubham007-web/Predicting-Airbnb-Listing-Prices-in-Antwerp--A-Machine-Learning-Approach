{
 "cells": [
  {
   "cell_type": "markdown",
   "id": "378f15f9-ad9c-4b6f-9713-7e98c937cd1c",
   "metadata": {},
   "source": [
    "# Task 1.1: Data Understanding and Feature Creation\n",
    "- Examine the Calendar table for the number of rows and unique listing IDs, and discuss implications of having more rows than unique listing IDs.\n",
    "- Transform the price column in the Calendar table to create a column suitable for use as a target/response variable.\n",
    "- Identify potential transformations in the Listings, Hosts, and Reviews tables to generate predictor variables for listing price prediction.\n",
    "- Create an aggregated dataset combining target and predictor variables from different tables."
   ]
  },
  {
   "cell_type": "code",
   "execution_count": null,
   "id": "5a056ae3-f39e-4374-9de2-1a28dfe6cf9e",
   "metadata": {},
   "outputs": [],
   "source": []
  },
  {
   "cell_type": "code",
   "execution_count": null,
   "id": "e4b1be76-aa1c-40be-9c1f-66ce721cf92b",
   "metadata": {},
   "outputs": [],
   "source": []
  },
  {
   "cell_type": "code",
   "execution_count": null,
   "id": "90e2d2a8-0242-4048-b603-8cba15997b6f",
   "metadata": {},
   "outputs": [],
   "source": []
  },
  {
   "cell_type": "markdown",
   "id": "de3f805a-9edb-423b-93c7-0a004d4fb591",
   "metadata": {},
   "source": [
    "# Task 1.2: Data Quality Checks\n",
    "\n",
    "- Conduct a data audit on the aggregated dataset and create a data quality report for continuous and categorical variables, highlighting unique - values, missing values, and key statistics for continuous variables, and unique values and missing values for categorical variables.\n",
    "- Identify and address any data anomalies."
   ]
  },
  {
   "cell_type": "code",
   "execution_count": null,
   "id": "cba889e6-f369-4ee9-90fd-0182993a0407",
   "metadata": {},
   "outputs": [],
   "source": []
  }
 ],
 "metadata": {
  "kernelspec": {
   "display_name": "Python 3 (ipykernel)",
   "language": "python",
   "name": "python3"
  },
  "language_info": {
   "codemirror_mode": {
    "name": "ipython",
    "version": 3
   },
   "file_extension": ".py",
   "mimetype": "text/x-python",
   "name": "python",
   "nbconvert_exporter": "python",
   "pygments_lexer": "ipython3",
   "version": "3.11.3"
  }
 },
 "nbformat": 4,
 "nbformat_minor": 5
}
